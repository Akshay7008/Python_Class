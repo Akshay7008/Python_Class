{
 "cells": [
  {
   "cell_type": "markdown",
   "id": "9455a4b2",
   "metadata": {},
   "source": [
    "# additing or deleting  from an object\n",
    "\n"
   ]
  },
  {
   "cell_type": "code",
   "execution_count": 14,
   "id": "6c5cd5ff",
   "metadata": {},
   "outputs": [],
   "source": [
    "class demo:\n",
    "    def __init__(self):\n",
    "        self.a1=\"first\"\n",
    "        self.a2=\"second\""
   ]
  },
  {
   "cell_type": "code",
   "execution_count": 15,
   "id": "e4d060a5",
   "metadata": {},
   "outputs": [
    {
     "name": "stdout",
     "output_type": "stream",
     "text": [
      "first second\n"
     ]
    }
   ],
   "source": [
    "d1=demo() ------------>#new object\n",
    "print(d1.a1,d1.a2)"
   ]
  },
  {
   "cell_type": "code",
   "execution_count": 16,
   "id": "ee37deed",
   "metadata": {},
   "outputs": [
    {
     "name": "stdout",
     "output_type": "stream",
     "text": [
      "first second third\n"
     ]
    }
   ],
   "source": [
    "d1.a3=\"third\"  ------------------>#adding\n",
    "\n",
    "print(d1.a1,d1.a2,d1.a3)"
   ]
  },
  {
   "cell_type": "code",
   "execution_count": 17,
   "id": "27643cd8",
   "metadata": {},
   "outputs": [
    {
     "name": "stdout",
     "output_type": "stream",
     "text": [
      "first second\n"
     ]
    }
   ],
   "source": [
    "d2=demo()\n",
    "print(d2.a1,d2.a2)"
   ]
  },
  {
   "cell_type": "code",
   "execution_count": 18,
   "id": "775a7a07",
   "metadata": {},
   "outputs": [
    {
     "ename": "AttributeError",
     "evalue": "'demo' object has no attribute 'a1'",
     "output_type": "error",
     "traceback": [
      "\u001b[1;31m---------------------------------------------------------------------------\u001b[0m",
      "\u001b[1;31mAttributeError\u001b[0m                            Traceback (most recent call last)",
      "Cell \u001b[1;32mIn[18], line 2\u001b[0m\n\u001b[0;32m      1\u001b[0m \u001b[38;5;28;01mdel\u001b[39;00m d1\u001b[38;5;241m.\u001b[39ma1\n\u001b[1;32m----> 2\u001b[0m \u001b[38;5;28mprint\u001b[39m(d1\u001b[38;5;241m.\u001b[39ma1,d1\u001b[38;5;241m.\u001b[39ma2)\n",
      "\u001b[1;31mAttributeError\u001b[0m: 'demo' object has no attribute 'a1'"
     ]
    }
   ],
   "source": [
    "del d1.a1  -------------------->#deleting\n",
    "print(d1.a1,d1.a2)"
   ]
  },
  {
   "cell_type": "markdown",
   "id": "bcbe5150",
   "metadata": {},
   "source": [
    "# Inheritance"
   ]
  },
  {
   "cell_type": "code",
   "execution_count": null,
   "id": "00904b0b",
   "metadata": {},
   "outputs": [],
   "source": [
    "class A:\n",
    "    ca1=10\n",
    "    def __init__(self): ----------------> # This is method over-ridden by B\n",
    "        self.i1=90\n",
    "    def method1(self):\n",
    "        print(\"Instance method in A\")\n",
    "        \n",
    "classB(A):\n",
    "    def __init__(self): ------------------> #this is method overridding\n",
    "        A.__init__(self) ------------------> #calling the init of A\n",
    "        self.i2=100\n",
    "        \n",
    "    def display(self):\n",
    "        print(self.i1,self.i2,self.ca1,)\n",
    "        "
   ]
  },
  {
   "cell_type": "code",
   "execution_count": null,
   "id": "7381ffbc",
   "metadata": {},
   "outputs": [],
   "source": [
    "b=B()\n"
   ]
  },
  {
   "cell_type": "markdown",
   "id": "713f14c2",
   "metadata": {},
   "source": [
    "Base class Employee-----> Empid,name,salary\n",
    "DisplayIds\n",
    "child class manager -------> budget,projectids\n",
    "display_project_ids    "
   ]
  },
  {
   "cell_type": "code",
   "execution_count": 3,
   "id": "096908c2",
   "metadata": {},
   "outputs": [],
   "source": [
    "class Employee:\n",
    "    \n",
    "    def __init__(self):\n",
    "        self.empid=input(\"enter empid\")\n",
    "        self.name=input(\"enter the name\")\n",
    "        self.salary=input(\"enter salary\")\n",
    "        \n",
    "    def display_id(self):\n",
    "        print(self.empid,self.name,self.salary)\n",
    "        \n",
    "        \n",
    "class manager(Employee):\n",
    "    \n",
    "    def __init__(self,projectids):\n",
    "        Employee.__init__(self)\n",
    "        self.budget=12000000\n",
    "        self.projectids=projectids\n",
    "        \n",
    "    def display_proids(self):\n",
    "        print(self.empid,self.name,self.salary,self.budget,self.projectids)\n",
    "        \n"
   ]
  },
  {
   "cell_type": "code",
   "execution_count": 4,
   "id": "dbd64ebd",
   "metadata": {},
   "outputs": [
    {
     "name": "stdout",
     "output_type": "stream",
     "text": [
      "enter empid1\n",
      "enter the namesmith\n",
      "enter salary120235\n",
      "1 smith 120235 12000000 101\n"
     ]
    }
   ],
   "source": [
    "m1=manager(101)\n",
    "m1.display_proids()"
   ]
  },
  {
   "cell_type": "markdown",
   "id": "837238c7",
   "metadata": {},
   "source": [
    "# Over riding of Method"
   ]
  },
  {
   "cell_type": "code",
   "execution_count": null,
   "id": "b49e3ab0",
   "metadata": {},
   "outputs": [],
   "source": []
  }
 ],
 "metadata": {
  "kernelspec": {
   "display_name": "Python 3 (ipykernel)",
   "language": "python",
   "name": "python3"
  },
  "language_info": {
   "codemirror_mode": {
    "name": "ipython",
    "version": 3
   },
   "file_extension": ".py",
   "mimetype": "text/x-python",
   "name": "python",
   "nbconvert_exporter": "python",
   "pygments_lexer": "ipython3",
   "version": "3.11.4"
  }
 },
 "nbformat": 4,
 "nbformat_minor": 5
}
