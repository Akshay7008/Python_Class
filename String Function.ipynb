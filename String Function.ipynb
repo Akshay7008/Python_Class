{
 "cells": [
  {
   "cell_type": "code",
   "execution_count": 2,
   "id": "361057c1",
   "metadata": {},
   "outputs": [
    {
     "name": "stdout",
     "output_type": "stream",
     "text": [
      "Hey i am iacsd\n",
      "Hey I Am Iacsd\n"
     ]
    }
   ],
   "source": [
    "str1='hey i am iacsd'\n",
    "x=str1.capitalize() #----->Only upper case 1st word\n",
    "print(x)\n",
    "y=str1.title() #------> Upper case all 1st word of line\n",
    "print(y)"
   ]
  },
  {
   "cell_type": "code",
   "execution_count": 5,
   "id": "615362d8",
   "metadata": {},
   "outputs": [
    {
     "name": "stdout",
     "output_type": "stream",
     "text": [
      "akshay akshay\n"
     ]
    }
   ],
   "source": [
    "str2='AKSHAY'\n",
    "a=str2.casefold()\n",
    "b=str2.lower()\n",
    "print(a,b)"
   ]
  },
  {
   "cell_type": "code",
   "execution_count": 9,
   "id": "57613f13",
   "metadata": {},
   "outputs": [
    {
     "name": "stdout",
     "output_type": "stream",
     "text": [
      "      hey i am iacsd     \n"
     ]
    }
   ],
   "source": [
    "s=str1.center(25)\n",
    "print(s)"
   ]
  },
  {
   "cell_type": "code",
   "execution_count": 11,
   "id": "218fdb53",
   "metadata": {},
   "outputs": [
    {
     "name": "stdout",
     "output_type": "stream",
     "text": [
      "2\n"
     ]
    }
   ],
   "source": [
    "count=str1.count('a') #---------->gives occurance of a in string\n",
    "print(count)"
   ]
  },
  {
   "cell_type": "code",
   "execution_count": 13,
   "id": "359318a4",
   "metadata": {},
   "outputs": [
    {
     "name": "stdout",
     "output_type": "stream",
     "text": [
      "True\n"
     ]
    }
   ],
   "source": [
    "s='Hello i am iacsd!'\n",
    "\n",
    "a=s.endswith('!')\n",
    "print(a)"
   ]
  },
  {
   "cell_type": "code",
   "execution_count": 20,
   "id": "5645d009",
   "metadata": {},
   "outputs": [
    {
     "name": "stdout",
     "output_type": "stream",
     "text": [
      "3 3\n"
     ]
    }
   ],
   "source": [
    "txt = \"AKSHAY \"\n",
    "\n",
    "x =  txt.find('H')\n",
    "y= txt.index('H')\n",
    "\n",
    "print(x,y)"
   ]
  },
  {
   "cell_type": "code",
   "execution_count": null,
   "id": "67466f70",
   "metadata": {},
   "outputs": [],
   "source": [
    "#isalnum()\n",
    "#isalpha()\n",
    "#isascii()\n",
    "#isdigit()\n"
   ]
  },
  {
   "cell_type": "code",
   "execution_count": 24,
   "id": "ef1599c4",
   "metadata": {},
   "outputs": [
    {
     "name": "stdout",
     "output_type": "stream",
     "text": [
      "True\n"
     ]
    }
   ],
   "source": [
    "txt = \"Hello, And Welcome To My iacsd\"\n",
    "\n",
    "x = txt.istitle()\n",
    "\n",
    "print(x)"
   ]
  },
  {
   "cell_type": "code",
   "execution_count": 27,
   "id": "8539ff9d",
   "metadata": {},
   "outputs": [
    {
     "name": "stdout",
     "output_type": "stream",
     "text": [
      "akshaysuryawanshi\n"
     ]
    }
   ],
   "source": [
    "l=['akshay','suryawanshi']\n",
    "a=''.join(l)\n",
    "print(a)"
   ]
  },
  {
   "cell_type": "code",
   "execution_count": 28,
   "id": "d870a401",
   "metadata": {},
   "outputs": [
    {
     "name": "stdout",
     "output_type": "stream",
     "text": [
      "0 4\n"
     ]
    }
   ],
   "source": [
    "s='akshay'\n",
    "a=s.find('a') #---->find 1st occurance\n",
    "b=s.rfind('a')#----->find last occurance\n",
    "print(a,b)"
   ]
  },
  {
   "cell_type": "code",
   "execution_count": 29,
   "id": "ab8d2b13",
   "metadata": {},
   "outputs": [
    {
     "name": "stdout",
     "output_type": "stream",
     "text": [
      "aKShAy\n"
     ]
    }
   ],
   "source": [
    "name='AksHaY'\n",
    "print(name.swapcase())"
   ]
  },
  {
   "cell_type": "code",
   "execution_count": null,
   "id": "f2ef973f",
   "metadata": {},
   "outputs": [],
   "source": []
  }
 ],
 "metadata": {
  "kernelspec": {
   "display_name": "Python 3 (ipykernel)",
   "language": "python",
   "name": "python3"
  },
  "language_info": {
   "codemirror_mode": {
    "name": "ipython",
    "version": 3
   },
   "file_extension": ".py",
   "mimetype": "text/x-python",
   "name": "python",
   "nbconvert_exporter": "python",
   "pygments_lexer": "ipython3",
   "version": "3.11.4"
  }
 },
 "nbformat": 4,
 "nbformat_minor": 5
}
