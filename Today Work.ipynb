{
 "cells": [
  {
   "cell_type": "code",
   "execution_count": 4,
   "id": "ab2d3ddd",
   "metadata": {},
   "outputs": [
    {
     "name": "stdout",
     "output_type": "stream",
     "text": [
      "    *\n",
      "   ***\n",
      "  *****\n",
      " *******\n"
     ]
    }
   ],
   "source": [
    "n=7\n",
    "sp=n//2\n",
    "\n",
    "for i in range(1,n+1,2):\n",
    "    print(' '*sp,'*'*i,sep=\" \")\n",
    "    sp=sp-1"
   ]
  },
  {
   "cell_type": "code",
   "execution_count": 24,
   "id": "965aa7fa",
   "metadata": {},
   "outputs": [
    {
     "name": "stdout",
     "output_type": "stream",
     "text": [
      "Enter the names with spacesakshay rahul smith\n",
      "['akshay', 'rahul', 'smith']\n",
      "akshayrahulsmith\n"
     ]
    }
   ],
   "source": [
    "#Split values\n",
    "\n",
    "a=input(\"Enter the names with spaces\")\n",
    "x=a.split()\n",
    "print(x)\n",
    "\n",
    "j=''.join(x)\n",
    "print(j)"
   ]
  },
  {
   "cell_type": "code",
   "execution_count": 2,
   "id": "ac5aa29d",
   "metadata": {},
   "outputs": [
    {
     "name": "stdout",
     "output_type": "stream",
     "text": [
      "prime no\n"
     ]
    }
   ],
   "source": [
    "n=5\n",
    "\n",
    "for i in range(n):\n",
    "    if i>1:\n",
    "        if n%i==0:\n",
    "            print('not a prime no')\n",
    "            break\n",
    "else:\n",
    "    print('prime no')\n",
    "        "
   ]
  },
  {
   "cell_type": "code",
   "execution_count": 3,
   "id": "65934b4a",
   "metadata": {},
   "outputs": [
    {
     "name": "stdout",
     "output_type": "stream",
     "text": [
      "1\n"
     ]
    }
   ],
   "source": [
    "#Amstrong no\n",
    "add=0\n",
    "no=153\n",
    "s1=str(no)\n",
    "order=len(s1)\n",
    "\n",
    "for i in s1:\n",
    "    add=add+int(i)**order\n",
    "    \n",
    "if add==no:\n",
    "    print('1')\n",
    "else:\n",
    "    print('2')"
   ]
  },
  {
   "cell_type": "code",
   "execution_count": 6,
   "id": "664e15f5",
   "metadata": {},
   "outputs": [
    {
     "name": "stdout",
     "output_type": "stream",
     "text": [
      "not\n"
     ]
    }
   ],
   "source": [
    "#palidrome string\n",
    "\n",
    "string='nitin1'\n",
    "\n",
    "rev_string=string[::-1]\n",
    "\n",
    "if string==rev_string:\n",
    "    print('palidrome')\n",
    "else:\n",
    "    print('not')"
   ]
  },
  {
   "cell_type": "code",
   "execution_count": 9,
   "id": "c7642d16",
   "metadata": {},
   "outputs": [
    {
     "name": "stdout",
     "output_type": "stream",
     "text": [
      "120\n"
     ]
    }
   ],
   "source": [
    "#factorial 1*2*3*4*5\n",
    "n=5\n",
    "fact=1\n",
    "for i in range(1,n+1):\n",
    "    fact=fact*i\n",
    "    \n",
    "print(fact)"
   ]
  },
  {
   "cell_type": "code",
   "execution_count": 13,
   "id": "1fa3f1af",
   "metadata": {},
   "outputs": [
    {
     "name": "stdout",
     "output_type": "stream",
     "text": [
      "0\n",
      "1\n",
      "1\n",
      "2\n",
      "3\n",
      "5\n",
      "8\n",
      "13\n",
      "21\n",
      "34\n"
     ]
    }
   ],
   "source": [
    "#fibonacci series 0,1,1,2,3,5,8,13\n",
    "\n",
    "n=10\n",
    "a=0\n",
    "b=1\n",
    "add=0\n",
    "for i in range(n):\n",
    "    print(a)\n",
    "    add=a+b\n",
    "    a=b\n",
    "    b=add\n",
    "\n"
   ]
  },
  {
   "cell_type": "code",
   "execution_count": 21,
   "id": "9c7bc375",
   "metadata": {},
   "outputs": [
    {
     "data": {
      "text/plain": [
       "[45, 60, 20, 80, 100]"
      ]
     },
     "execution_count": 21,
     "metadata": {},
     "output_type": "execute_result"
    }
   ],
   "source": [
    "def fun(n):\n",
    "    return abs(n-50)\n",
    "\n",
    "l=[20,45,100,80,60]\n",
    "s=sorted(l,key=fun)\n",
    "s"
   ]
  },
  {
   "cell_type": "code",
   "execution_count": 31,
   "id": "c352d38a",
   "metadata": {},
   "outputs": [
    {
     "name": "stdout",
     "output_type": "stream",
     "text": [
      "[4, 6, 8, 9, 20]\n"
     ]
    }
   ],
   "source": [
    "#WAP to find unique numbers in an array and count their occurance.\n",
    "\n",
    "l=[20,56,4,8,20,6,9,4,8,6,9,'a','g','a','c','d','e']\n",
    "st1=set()\n",
    "\n",
    "for i in l:\n",
    "    if type(i)==type(1):\n",
    "        x=l.count(i)\n",
    "        if x>1:\n",
    "            st1.add(i)\n",
    "    else:\n",
    "        break\n",
    "        \n",
    "    \n",
    "print(list(st1))\n",
    "\n"
   ]
  },
  {
   "cell_type": "code",
   "execution_count": 8,
   "id": "99fdec39",
   "metadata": {},
   "outputs": [
    {
     "name": "stdout",
     "output_type": "stream",
     "text": [
      "['a', 'e', 'w', 'u', 'b', '.', 'd', 'r', '!', 'o', 'k', 'y', 'h', ' ', 's', 'm', 'i']\n",
      "a   4\n",
      "u   2\n",
      "d   2\n",
      "y   2\n",
      "h   3\n",
      "i   2\n"
     ]
    }
   ],
   "source": [
    "sentence='Hi i am akshay how are u buddy...!!!'\n",
    "x=sentence.lower()\n",
    "\n",
    "set1=set(x)\n",
    "#print(set1)\n",
    "l1=list(set1)\n",
    "print(l1)\n",
    "\n",
    "for e in l1:\n",
    "    if e.isalpha():\n",
    "        cnt=x.count(e)\n",
    "        \n",
    "        if cnt>1:\n",
    "            print(e,cnt, sep=\"   \")\n",
    "            \n",
    "            \n",
    "            "
   ]
  },
  {
   "cell_type": "code",
   "execution_count": 13,
   "id": "56a82c57",
   "metadata": {},
   "outputs": [
    {
     "data": {
      "text/plain": [
       "['smith', 'ravi', 'jon', 'akshay']"
      ]
     },
     "execution_count": 13,
     "metadata": {},
     "output_type": "execute_result"
    }
   ],
   "source": [
    "l=['jon','ravi','akshay','smith']\n",
    "\n",
    "s1=sorted(l,key=(lambda l2:l2[-1]))\n",
    "s1"
   ]
  },
  {
   "cell_type": "code",
   "execution_count": 25,
   "id": "71403842",
   "metadata": {},
   "outputs": [
    {
     "name": "stdout",
     "output_type": "stream",
     "text": [
      "[1, 2, 3, 4]\n",
      "[2, 3, 1, 4]\n",
      "[(1, 'robin'), (2, 'aarth'), (3, 'aditya'), (4, 'smith')]\n"
     ]
    },
    {
     "data": {
      "text/plain": [
       "[(2, 'aarth'), (3, 'aditya'), (1, 'robin'), (4, 'smith')]"
      ]
     },
     "execution_count": 25,
     "metadata": {},
     "output_type": "execute_result"
    }
   ],
   "source": [
    "emp={1:'robin',4:'smith',3:'aditya',2:'aarth'}\n",
    "\n",
    "print(sorted(emp))\n",
    "\n",
    "s1=sorted(emp,key=(lambda x:emp[x]))\n",
    "print(s1)\n",
    "\n",
    "s2=sorted(emp.items(),key=(lambda x:x[0]))\n",
    "print(s2)\n",
    "\n",
    "s3=sorted(emp.items(),key=(lambda x:x[1]))\n",
    "s3"
   ]
  },
  {
   "cell_type": "code",
   "execution_count": null,
   "id": "4a2c3acc",
   "metadata": {},
   "outputs": [],
   "source": []
  }
 ],
 "metadata": {
  "kernelspec": {
   "display_name": "Python 3 (ipykernel)",
   "language": "python",
   "name": "python3"
  },
  "language_info": {
   "codemirror_mode": {
    "name": "ipython",
    "version": 3
   },
   "file_extension": ".py",
   "mimetype": "text/x-python",
   "name": "python",
   "nbconvert_exporter": "python",
   "pygments_lexer": "ipython3",
   "version": "3.11.4"
  }
 },
 "nbformat": 4,
 "nbformat_minor": 5
}
