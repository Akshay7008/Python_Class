{
 "cells": [
  {
   "cell_type": "markdown",
   "id": "8c0c14dd",
   "metadata": {},
   "source": [
    "Pattern Printing"
   ]
  },
  {
   "cell_type": "code",
   "execution_count": 1,
   "id": "40205f6a",
   "metadata": {},
   "outputs": [
    {
     "name": "stdout",
     "output_type": "stream",
     "text": [
      "  *\n",
      " ***\n",
      "*****\n"
     ]
    }
   ],
   "source": [
    "n=5\n",
    "sp =n//2\n",
    "\n",
    "for i in range (1,n+1,2):\n",
    "    print(' '*sp,'*'*i, sep=\"\")\n",
    "    sp= sp-1\n"
   ]
  },
  {
   "cell_type": "markdown",
   "id": "53ac242c",
   "metadata": {},
   "source": [
    " 1010101          \n",
    " 10101  \n",
    "  101   \n",
    "   1  "
   ]
  },
  {
   "cell_type": "code",
   "execution_count": 16,
   "id": "f49830b5",
   "metadata": {},
   "outputs": [
    {
     "name": "stdout",
     "output_type": "stream",
     "text": [
      "101010101\n",
      " 1010101\n",
      "  10101\n",
      "   101\n",
      "    1\n"
     ]
    }
   ],
   "source": [
    "n=5\n",
    "sp =0\n",
    "for i in range (n-1,-1,-1):\n",
    "    print (\" \"*sp,'10'*i, '1',sep=\"\")\n",
    "    sp=sp+1\n",
    "    "
   ]
  },
  {
   "cell_type": "code",
   "execution_count": null,
   "id": "790a29cb",
   "metadata": {},
   "outputs": [],
   "source": [
    "num=10"
   ]
  },
  {
   "cell_type": "code",
   "execution_count": 24,
   "id": "0692bb16",
   "metadata": {},
   "outputs": [
    {
     "data": {
      "text/plain": [
       "1805383196336"
      ]
     },
     "execution_count": 24,
     "metadata": {},
     "output_type": "execute_result"
    }
   ],
   "source": [
    "id(num)"
   ]
  },
  {
   "cell_type": "markdown",
   "id": "48d73af1",
   "metadata": {},
   "source": [
    "size of () #we need to import sys"
   ]
  },
  {
   "cell_type": "code",
   "execution_count": 18,
   "id": "ca19ecfe",
   "metadata": {},
   "outputs": [
    {
     "data": {
      "text/plain": [
       "32"
      ]
     },
     "execution_count": 18,
     "metadata": {},
     "output_type": "execute_result"
    }
   ],
   "source": [
    "import sys\n",
    "num=10000000000\n",
    "sys.getsizeof(num)"
   ]
  },
  {
   "cell_type": "code",
   "execution_count": 19,
   "id": "0b74ee83",
   "metadata": {},
   "outputs": [
    {
     "data": {
      "text/plain": [
       "24"
      ]
     },
     "execution_count": 19,
     "metadata": {},
     "output_type": "execute_result"
    }
   ],
   "source": [
    "area =56.32\n",
    "\n",
    "sys.getsizeof(area)"
   ]
  },
  {
   "cell_type": "code",
   "execution_count": 20,
   "id": "1c2ef7ff",
   "metadata": {},
   "outputs": [
    {
     "data": {
      "text/plain": [
       "55"
      ]
     },
     "execution_count": 20,
     "metadata": {},
     "output_type": "execute_result"
    }
   ],
   "source": [
    "name=\"akshay\"\n",
    "\n",
    "sys.getsizeof(name)"
   ]
  },
  {
   "cell_type": "code",
   "execution_count": 23,
   "id": "963b678e",
   "metadata": {},
   "outputs": [
    {
     "data": {
      "text/plain": [
       "50"
      ]
     },
     "execution_count": 23,
     "metadata": {},
     "output_type": "execute_result"
    }
   ],
   "source": [
    "name=\" \"\n",
    "\n",
    "sys.getsizeof(name)"
   ]
  },
  {
   "cell_type": "markdown",
   "id": "8cb9ea4d",
   "metadata": {},
   "source": [
    "#intering"
   ]
  },
  {
   "cell_type": "code",
   "execution_count": 34,
   "id": "3a795dcc",
   "metadata": {},
   "outputs": [
    {
     "name": "stdout",
     "output_type": "stream",
     "text": [
      "idn of i is  140706770883656\n",
      "idn of j is  140706770883656\n",
      "idn of i is  140706770883976\n",
      "i  j 20 10\n"
     ]
    }
   ],
   "source": [
    "i=10\n",
    "print(\"idn of i is \",id(i))\n",
    "j=10\n",
    "print(\"idn of j is \",id(j))\n",
    "i=20\n",
    "print(\"idn of i is \",id(i))\n",
    "\n",
    "print(\"i \" , \"j\", i,j)\n"
   ]
  },
  {
   "cell_type": "markdown",
   "id": "9cab5ed9",
   "metadata": {},
   "source": [
    "#size of int in python"
   ]
  },
  {
   "cell_type": "code",
   "execution_count": 29,
   "id": "d6e0f724",
   "metadata": {},
   "outputs": [
    {
     "data": {
      "text/plain": [
       "28"
      ]
     },
     "execution_count": 29,
     "metadata": {},
     "output_type": "execute_result"
    }
   ],
   "source": [
    "total=20\n",
    "sys.getsizeof(total)"
   ]
  },
  {
   "cell_type": "code",
   "execution_count": 30,
   "id": "7bf42919",
   "metadata": {},
   "outputs": [
    {
     "data": {
      "text/plain": [
       "32"
      ]
     },
     "execution_count": 30,
     "metadata": {},
     "output_type": "execute_result"
    }
   ],
   "source": [
    "total=2**30\n",
    "sys.getsizeof(total)"
   ]
  },
  {
   "cell_type": "markdown",
   "id": "139a778e",
   "metadata": {},
   "source": [
    "complex numbers\n"
   ]
  },
  {
   "cell_type": "code",
   "execution_count": 31,
   "id": "79896b5a",
   "metadata": {},
   "outputs": [
    {
     "data": {
      "text/plain": [
       "(3+4j)"
      ]
     },
     "execution_count": 31,
     "metadata": {},
     "output_type": "execute_result"
    }
   ],
   "source": [
    "complex(3,4)"
   ]
  },
  {
   "cell_type": "code",
   "execution_count": 33,
   "id": "4fb6fc7d",
   "metadata": {},
   "outputs": [
    {
     "data": {
      "text/plain": [
       "(4+0j)"
      ]
     },
     "execution_count": 33,
     "metadata": {},
     "output_type": "execute_result"
    }
   ],
   "source": [
    "complex(4)"
   ]
  },
  {
   "cell_type": "code",
   "execution_count": null,
   "id": "68147a64",
   "metadata": {},
   "outputs": [],
   "source": []
  }
 ],
 "metadata": {
  "kernelspec": {
   "display_name": "Python 3 (ipykernel)",
   "language": "python",
   "name": "python3"
  },
  "language_info": {
   "codemirror_mode": {
    "name": "ipython",
    "version": 3
   },
   "file_extension": ".py",
   "mimetype": "text/x-python",
   "name": "python",
   "nbconvert_exporter": "python",
   "pygments_lexer": "ipython3",
   "version": "3.11.4"
  }
 },
 "nbformat": 4,
 "nbformat_minor": 5
}
