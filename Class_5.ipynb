{
 "cells": [
  {
   "cell_type": "markdown",
   "id": "98c40605",
   "metadata": {},
   "source": [
    "# Match "
   ]
  },
  {
   "cell_type": "markdown",
   "id": "308654b9",
   "metadata": {},
   "source": [
    "Q9. Write a menu driven program.\n",
    "Ask the user which input needs to be converted \n",
    "1. binary 2. Octal 3. Hex\n",
    "Then convert given string to integer using int() function"
   ]
  },
  {
   "cell_type": "code",
   "execution_count": null,
   "id": "12f7538e",
   "metadata": {},
   "outputs": [
    {
     "name": "stdout",
     "output_type": "stream",
     "text": [
      "Ask the user which input needs to be converted 1. binary 2. Octal 3. Hex2\n",
      "Enter the value to convert25\n",
      "Ask the user which input needs to be converted 1. binary 2. Octal 3. Hex2\n",
      "Enter the value to convert3\n",
      "Ask the user which input needs to be converted 1. binary 2. Octal 3. Hex4\n",
      "Enter the value to convert4\n"
     ]
    }
   ],
   "source": [
    "while(True):\n",
    "    choice = int(input(\"Ask the user which input needs to be converted 1. binary 2. Octal 3. Hex\"))\n",
    "    value = input(\"Enter the value to convert\")\n",
    "    \n",
    "    match choice:\n",
    "        case 1:\n",
    "            print(\"Binary to int conversion\")\n",
    "            print(value,\"int is\", int(value,2))\n",
    "        case 2:\n",
    "            print(\"Binary to int conversion\")\n",
    "            print(value,\"int is\", int(value,8))\n",
    "            \n",
    "        case 3:\n",
    "            print(\"Binary to int conversion\")\n",
    "            print(value,\"int is\", int(value,16))\n",
    "            \n",
    "        case 4:\n",
    "            print(\"Exiting\")\n",
    "            break # come out of the while loop"
   ]
  },
  {
   "cell_type": "code",
   "execution_count": 2,
   "id": "24487b85",
   "metadata": {},
   "outputs": [
    {
     "name": "stdout",
     "output_type": "stream",
     "text": [
      "Enter the number25\n",
      "enter the number24\n",
      "1. add , 2 . subtract , 3. multiply3\n",
      "mulitipication\n",
      "600\n",
      "1. add , 2 . subtract , 3. multiply4\n",
      "Exiting\n"
     ]
    }
   ],
   "source": [
    "a = int(input(\"Enter the number\"))\n",
    "b = int(input(\"enter the number\"))\n",
    "\n",
    "while(True):\n",
    "    \n",
    "    choice = int(input(\"1. add , 2 . subtract , 3. multiply\"))\n",
    "  \n",
    "    match choice:\n",
    "        case 1:\n",
    "            print(\"addition of two digits\")\n",
    "            print(a+b)\n",
    "        case 2:\n",
    "            print(\"subtraction of two digits\")\n",
    "            print(a-b)\n",
    "            \n",
    "        case 3:\n",
    "            print(\"mulitipication\")\n",
    "            print(a*b)\n",
    "            \n",
    "        case 4:\n",
    "            print(\"Exiting\")\n",
    "            break # come out of the while loop"
   ]
  },
  {
   "cell_type": "markdown",
   "id": "75a204ef",
   "metadata": {},
   "source": [
    "# List"
   ]
  },
  {
   "cell_type": "code",
   "execution_count": 3,
   "id": "a9ecb4ff",
   "metadata": {},
   "outputs": [
    {
     "name": "stdout",
     "output_type": "stream",
     "text": [
      "[]\n"
     ]
    }
   ],
   "source": [
    "l1=list()\n",
    "print(l1)"
   ]
  },
  {
   "cell_type": "code",
   "execution_count": 19,
   "id": "e5180d7c",
   "metadata": {},
   "outputs": [
    {
     "name": "stdout",
     "output_type": "stream",
     "text": [
      "[51, 53, 55, 57, 59, 61, 63, 65, 67, 69, 71, 73, 75, 77, 79, 81, 83, 85, 87, 89, 91, 93, 95, 97, 99]\n"
     ]
    }
   ],
   "source": [
    "l1=[]\n",
    "for i in range(51,100,2):\n",
    "    l1.append(i)\n",
    "#    print(i)\n",
    "print(l1)\n",
    "\n",
    "# l2=list(range(51,100,2))\n"
   ]
  },
  {
   "cell_type": "code",
   "execution_count": 21,
   "id": "a028ad1a",
   "metadata": {},
   "outputs": [
    {
     "name": "stdout",
     "output_type": "stream",
     "text": [
      "0 51\n",
      "1 53\n",
      "2 55\n",
      "3 57\n",
      "4 59\n",
      "5 61\n",
      "6 63\n",
      "7 65\n",
      "8 67\n",
      "9 69\n",
      "10 71\n",
      "11 73\n",
      "12 75\n",
      "13 77\n",
      "14 79\n",
      "15 81\n",
      "16 83\n",
      "17 85\n",
      "18 87\n",
      "19 89\n",
      "20 91\n",
      "21 93\n",
      "22 95\n",
      "23 97\n",
      "24 99\n"
     ]
    }
   ],
   "source": [
    "for i,element in enumerate(l1):\n",
    "    print(i,element)\n",
    "    "
   ]
  },
  {
   "cell_type": "markdown",
   "id": "22f1f1d2",
   "metadata": {},
   "source": [
    "creat a list of all odd number divisible by 3 and 7"
   ]
  },
  {
   "cell_type": "code",
   "execution_count": 14,
   "id": "09666a31",
   "metadata": {},
   "outputs": [
    {
     "name": "stdout",
     "output_type": "stream",
     "text": [
      "[51, 57, 63, 69, 75, 77, 81, 87, 91, 93, 99]\n"
     ]
    }
   ],
   "source": [
    "l1=[]\n",
    "for i in range (51,100,2):\n",
    "    if (i%3==0) | (i%7==0):\n",
    "        l1.append(i)\n",
    "print(l1)"
   ]
  },
  {
   "cell_type": "markdown",
   "id": "6a3c9c21",
   "metadata": {},
   "source": [
    " create a list of rollnos of ur 5 friends\n",
    " print all rollnos with even index or alternate no in list"
   ]
  },
  {
   "cell_type": "code",
   "execution_count": 24,
   "id": "771ff6a5",
   "metadata": {},
   "outputs": [
    {
     "name": "stdout",
     "output_type": "stream",
     "text": [
      "54\n",
      "96\n",
      "31\n"
     ]
    }
   ],
   "source": [
    "rollno=[54,67,96,95,31,41]\n",
    "for i ,element in enumerate(rollno):\n",
    "    if i%2==0:\n",
    "        print(element)"
   ]
  },
  {
   "cell_type": "markdown",
   "id": "96e95d62",
   "metadata": {},
   "source": [
    "WAP take a list l1 and another list l2 contains square"
   ]
  },
  {
   "cell_type": "code",
   "execution_count": 29,
   "id": "27405013",
   "metadata": {},
   "outputs": [
    {
     "name": "stdout",
     "output_type": "stream",
     "text": [
      "[2025, 529, 121, 484, 10000]\n"
     ]
    }
   ],
   "source": [
    "l1=[45,23,11,22,100]\n",
    "square=[]\n",
    "\n",
    "for element in (l1):\n",
    "     square.append(element*element)\n",
    "        \n",
    "#square = [element**2 for element in square]\n",
    "    \n",
    "print(square)"
   ]
  },
  {
   "cell_type": "markdown",
   "id": "7211f5a6",
   "metadata": {},
   "source": [
    "# slicing"
   ]
  },
  {
   "cell_type": "code",
   "execution_count": 36,
   "id": "5874275f",
   "metadata": {},
   "outputs": [
    {
     "data": {
      "text/plain": [
       "[]"
      ]
     },
     "execution_count": 36,
     "metadata": {},
     "output_type": "execute_result"
    }
   ],
   "source": [
    "l1=[10,20,30,40,50]\n",
    "l1[2:4]\n",
    "l1[-2:-3]"
   ]
  },
  {
   "cell_type": "code",
   "execution_count": 42,
   "id": "ff4a70c3",
   "metadata": {},
   "outputs": [
    {
     "data": {
      "text/plain": [
       "[30]"
      ]
     },
     "execution_count": 42,
     "metadata": {},
     "output_type": "execute_result"
    }
   ],
   "source": [
    "l1=[10,20,30,40,50,60]\n",
    "l1[2:-3]"
   ]
  },
  {
   "cell_type": "code",
   "execution_count": null,
   "id": "0f0d0966",
   "metadata": {
    "collapsed": true
   },
   "outputs": [],
   "source": []
  }
 ],
 "metadata": {
  "kernelspec": {
   "display_name": "Python 3 (ipykernel)",
   "language": "python",
   "name": "python3"
  },
  "language_info": {
   "codemirror_mode": {
    "name": "ipython",
    "version": 3
   },
   "file_extension": ".py",
   "mimetype": "text/x-python",
   "name": "python",
   "nbconvert_exporter": "python",
   "pygments_lexer": "ipython3",
   "version": "3.11.4"
  }
 },
 "nbformat": 4,
 "nbformat_minor": 5
}
