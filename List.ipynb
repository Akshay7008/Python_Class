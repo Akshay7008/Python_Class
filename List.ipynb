{
 "cells": [
  {
   "cell_type": "markdown",
   "id": "8c3a80dd",
   "metadata": {},
   "source": [
    "# List"
   ]
  },
  {
   "cell_type": "markdown",
   "id": "9113888b",
   "metadata": {},
   "source": [
    "# creating a list"
   ]
  },
  {
   "cell_type": "code",
   "execution_count": 2,
   "id": "bfc00deb",
   "metadata": {},
   "outputs": [
    {
     "name": "stdout",
     "output_type": "stream",
     "text": [
      "[1, 2, 3, 4]\n"
     ]
    }
   ],
   "source": [
    "l1=[]\n",
    "for i in range(1,5):\n",
    "    l1.append(i)\n",
    "print(l1)\n",
    "               "
   ]
  },
  {
   "cell_type": "markdown",
   "id": "054e44b6",
   "metadata": {},
   "source": [
    "# Printing the list"
   ]
  },
  {
   "cell_type": "code",
   "execution_count": 8,
   "id": "38580121",
   "metadata": {},
   "outputs": [
    {
     "name": "stdout",
     "output_type": "stream",
     "text": [
      "10\n",
      "20\n",
      "30\n",
      "40\n",
      "50\n",
      "60\n",
      "0 10\n",
      "1 20\n",
      "2 30\n",
      "3 40\n",
      "4 50\n",
      "5 60\n"
     ]
    }
   ],
   "source": [
    " l1=[10,20,30,40,50,60]\n",
    "\n",
    "for e in l1:\n",
    "    print(e)\n",
    "    \n",
    "for i,e in enumerate(l1):\n",
    "    print(i,e)"
   ]
  },
  {
   "cell_type": "markdown",
   "id": "7fb36de6",
   "metadata": {},
   "source": [
    "# How to modify a part of List ?"
   ]
  },
  {
   "cell_type": "code",
   "execution_count": 10,
   "id": "f2a7550f",
   "metadata": {},
   "outputs": [
    {
     "name": "stdout",
     "output_type": "stream",
     "text": [
      "[10, 20]\n",
      "[1, 2, 3, 4, 30, 40, 50, 60, 70]\n"
     ]
    }
   ],
   "source": [
    "l1=[10,20,30,40,50,60,70]\n",
    "\n",
    "print(l1[:2])\n",
    "\n",
    "l1[0:2]=[1,2,3,4]\n",
    "print(l1)"
   ]
  },
  {
   "cell_type": "markdown",
   "id": "6c9148e5",
   "metadata": {},
   "source": [
    "# List Operations "
   ]
  },
  {
   "cell_type": "code",
   "execution_count": 16,
   "id": "053dd921",
   "metadata": {},
   "outputs": [
    {
     "name": "stdout",
     "output_type": "stream",
     "text": [
      "True\n",
      "False\n",
      "[1, 2, 3, 4, 5, 6, 7, 8, 9, 1, 2, 3, 4, 5, 6, 7, 8, 9]\n",
      "9\n",
      "1\n",
      "9\n"
     ]
    }
   ],
   "source": [
    "l1=[1,2,3,4,5,6,7,8,9]\n",
    "\n",
    "print(1 in l1)\n",
    "print(1 not in l1)\n",
    "print(2*l1)  #adding the list to itself n times\n",
    "print(len(l1))\n",
    "print(min(l1))\n",
    "print(max(l1))"
   ]
  },
  {
   "cell_type": "markdown",
   "id": "abae9eda",
   "metadata": {},
   "source": [
    "Append"
   ]
  },
  {
   "cell_type": "code",
   "execution_count": 2,
   "id": "abd5bcf3",
   "metadata": {},
   "outputs": [
    {
     "name": "stdout",
     "output_type": "stream",
     "text": [
      "['apple', 'banana', 'cherry', 'orange']\n",
      "['apple', 'banana', 'cherry', ['Ford', 'BMW', 'Volvo']]\n"
     ]
    }
   ],
   "source": [
    "fruits = ['apple', 'banana', 'cherry']\n",
    "fruits.append(\"orange\")\n",
    "\n",
    "print(fruits)  #add element at last\n",
    "\n",
    "a = [\"apple\", \"banana\", \"cherry\"]\n",
    "b = [\"Ford\", \"BMW\", \"Volvo\"]\n",
    "a.append(b)\n",
    "\n",
    "print(a)"
   ]
  },
  {
   "cell_type": "markdown",
   "id": "528ea097",
   "metadata": {},
   "source": [
    "Clear"
   ]
  },
  {
   "cell_type": "code",
   "execution_count": 3,
   "id": "e9e3f2ed",
   "metadata": {},
   "outputs": [
    {
     "name": "stdout",
     "output_type": "stream",
     "text": [
      "[]\n"
     ]
    }
   ],
   "source": [
    "fruits = ['apple', 'banana', 'cherry', 'orange']\n",
    "\n",
    "fruits.clear()\n",
    "print(fruits)"
   ]
  },
  {
   "cell_type": "markdown",
   "id": "e2da0123",
   "metadata": {},
   "source": [
    "extend"
   ]
  },
  {
   "cell_type": "code",
   "execution_count": 8,
   "id": "9a7bc219",
   "metadata": {},
   "outputs": [
    {
     "name": "stdout",
     "output_type": "stream",
     "text": [
      "['apple', 'banana', 'cherry', 1, 4, 5, 9]\n"
     ]
    }
   ],
   "source": [
    "fruits = ['apple', 'banana', 'cherry']\n",
    "\n",
    "points = (1, 4, 5, 9)\n",
    "\n",
    "fruits.extend(points)\n",
    "print(fruits)"
   ]
  },
  {
   "cell_type": "markdown",
   "id": "bb852e3e",
   "metadata": {},
   "source": [
    "count"
   ]
  },
  {
   "cell_type": "code",
   "execution_count": 11,
   "id": "866f9a51",
   "metadata": {},
   "outputs": [
    {
     "name": "stdout",
     "output_type": "stream",
     "text": [
      "2\n"
     ]
    }
   ],
   "source": [
    "fruits = ['apple', 'banana', 'cherry', 'banana']\n",
    "\n",
    "x = fruits.count(\"banana\")\n",
    "print(x)"
   ]
  },
  {
   "cell_type": "markdown",
   "id": "4f7f5c91",
   "metadata": {},
   "source": [
    "index"
   ]
  },
  {
   "cell_type": "code",
   "execution_count": 12,
   "id": "153a7792",
   "metadata": {},
   "outputs": [
    {
     "name": "stdout",
     "output_type": "stream",
     "text": [
      "3\n"
     ]
    }
   ],
   "source": [
    "fruits = [4, 55, 64, 32, 16, 32]\n",
    "\n",
    "x = fruits.index(32)\n",
    "print(x)"
   ]
  },
  {
   "cell_type": "code",
   "execution_count": null,
   "id": "24e49645",
   "metadata": {},
   "outputs": [],
   "source": [
    "insert/pop/remove/sort"
   ]
  },
  {
   "cell_type": "code",
   "execution_count": 2,
   "id": "4aff1879",
   "metadata": {},
   "outputs": [
    {
     "name": "stdout",
     "output_type": "stream",
     "text": [
      "[10, 80, 20, 30, 40]\n",
      "[10, 80, 20, 40]\n",
      "[10, 80, 20]\n",
      "[10, 20, 80]\n",
      "[10, 20]\n"
     ]
    }
   ],
   "source": [
    "l1=[10,20,30,40]\n",
    "\n",
    "l1.insert(1,80)\n",
    "print(l1)\n",
    "\n",
    "l1.pop(3)\n",
    "print(l1)\n",
    "\n",
    "l1.remove(40)\n",
    "print(l1)\n",
    "\n",
    "l1.sort()\n",
    "print(l1)\n",
    "\n",
    "del l1[2]\n",
    "print(l1)"
   ]
  },
  {
   "cell_type": "code",
   "execution_count": 1,
   "id": "99fe3a2a",
   "metadata": {},
   "outputs": [
    {
     "data": {
      "text/plain": [
       "False"
      ]
     },
     "execution_count": 1,
     "metadata": {},
     "output_type": "execute_result"
    }
   ],
   "source": [
    "l1=[1,2,3,4]\n",
    "l2=[1,2,3,4]\n",
    "\n",
    "l1 is l2"
   ]
  },
  {
   "cell_type": "markdown",
   "id": "433efb80",
   "metadata": {},
   "source": [
    "# Packing and Unpacking"
   ]
  },
  {
   "cell_type": "code",
   "execution_count": 3,
   "id": "46c6ca52",
   "metadata": {},
   "outputs": [
    {
     "name": "stdout",
     "output_type": "stream",
     "text": [
      "10 20 30 40\n"
     ]
    }
   ],
   "source": [
    "l1=[10,20,30,40]\n",
    "x,y,*b,z =l1\n",
    "print(x ,y, *b,z)"
   ]
  },
  {
   "cell_type": "code",
   "execution_count": 2,
   "id": "72a7a7f2",
   "metadata": {},
   "outputs": [
    {
     "name": "stdout",
     "output_type": "stream",
     "text": [
      "[100, 90, 78, 50, 40, 4, 3, 2, 1]\n"
     ]
    }
   ],
   "source": [
    "l1=[1,2,3,4,40,50,90,78,100]\n",
    "\n",
    "print(sorted(l1,reverse=True))"
   ]
  },
  {
   "cell_type": "code",
   "execution_count": null,
   "id": "7f95dfc3",
   "metadata": {},
   "outputs": [],
   "source": []
  }
 ],
 "metadata": {
  "kernelspec": {
   "display_name": "Python 3 (ipykernel)",
   "language": "python",
   "name": "python3"
  },
  "language_info": {
   "codemirror_mode": {
    "name": "ipython",
    "version": 3
   },
   "file_extension": ".py",
   "mimetype": "text/x-python",
   "name": "python",
   "nbconvert_exporter": "python",
   "pygments_lexer": "ipython3",
   "version": "3.11.4"
  }
 },
 "nbformat": 4,
 "nbformat_minor": 5
}
