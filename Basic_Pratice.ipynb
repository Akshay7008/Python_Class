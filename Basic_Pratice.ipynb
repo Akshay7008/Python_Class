{
 "cells": [
  {
   "cell_type": "markdown",
   "id": "3819150a",
   "metadata": {},
   "source": [
    "# Prime_no"
   ]
  },
  {
   "cell_type": "markdown",
   "id": "08f5e7a7",
   "metadata": {},
   "source": [
    "Immutable and mutable:\n",
    "when we try to make changes in any variables or string/tuple, if memory address of the varibale changes then its is immutable means we can not chnage values of variable \n",
    "\n",
    "mutable: when we change the value of variable and the memory addresss remains same then the variable is mutable"
   ]
  },
  {
   "cell_type": "code",
   "execution_count": 7,
   "id": "e95d5704",
   "metadata": {},
   "outputs": [
    {
     "name": "stdout",
     "output_type": "stream",
     "text": [
      "Enter the number4\n",
      " n number is not prime\n"
     ]
    }
   ],
   "source": [
    "n=int(input(\"Enter the number\"))\n",
    "\n",
    "for i in range(n):\n",
    "    if i>1:\n",
    "        if n%i==0:\n",
    "            print(\" n number is not prime\")\n",
    "            break\n",
    "        \n",
    "else:\n",
    "    print(\"prime\")"
   ]
  },
  {
   "cell_type": "markdown",
   "id": "b8e76ea8",
   "metadata": {},
   "source": [
    "# Amstrong_no"
   ]
  },
  {
   "cell_type": "code",
   "execution_count": 14,
   "id": "ab9795a6",
   "metadata": {},
   "outputs": [
    {
     "name": "stdout",
     "output_type": "stream",
     "text": [
      "153\n",
      "number is asmtrong\n"
     ]
    }
   ],
   "source": [
    "n=153\n",
    "no=str(n)\n",
    "order=len(no)\n",
    "total=0\n",
    "for i in no:\n",
    "    total+=int(i)**(order)\n",
    "    \n",
    "print(total)    \n",
    "if total==n:\n",
    "    print(\"number is asmtrong\")\n",
    "else:\n",
    "    print(\"not\")"
   ]
  },
  {
   "cell_type": "code",
   "execution_count": 6,
   "id": "e4a9f813",
   "metadata": {},
   "outputs": [
    {
     "name": "stdout",
     "output_type": "stream",
     "text": [
      "no. is am\n",
      "not\n",
      "not\n"
     ]
    }
   ],
   "source": [
    "l=[153,123,49]\n",
    "\n",
    "# for i in l:\n",
    "#     order=len(str(i))\n",
    "#     no=str(i)\n",
    "#     total=0\n",
    "#     for j in no:\n",
    "#         total=int(j)**(order)\n",
    "#     print(total)\n",
    "\n",
    "l1=list(map(str,l))\n",
    "\n",
    "for i in l1:\n",
    "    total=0\n",
    "    for j in i:\n",
    "        total+=int(j)**(len(i))\n",
    "    if total==int(i):\n",
    "        print(\"no. is am\")\n",
    "    else:\n",
    "        print(\"not\")\n",
    "        "
   ]
  },
  {
   "cell_type": "markdown",
   "id": "d15a10ee",
   "metadata": {},
   "source": [
    "# factorial"
   ]
  },
  {
   "cell_type": "code",
   "execution_count": 1,
   "id": "f0e06737",
   "metadata": {},
   "outputs": [
    {
     "name": "stdout",
     "output_type": "stream",
     "text": [
      "24\n"
     ]
    }
   ],
   "source": [
    "num=4\n",
    "fact=1\n",
    "for i in range(1,num+1):\n",
    "    fact=fact*i\n",
    "print(fact)"
   ]
  },
  {
   "cell_type": "markdown",
   "id": "96d91be2",
   "metadata": {},
   "source": [
    "# fabonaaci Series"
   ]
  },
  {
   "cell_type": "code",
   "execution_count": 4,
   "id": "de804e1d",
   "metadata": {},
   "outputs": [
    {
     "name": "stdout",
     "output_type": "stream",
     "text": [
      "0\n",
      "1\n",
      "1\n",
      "2\n",
      "3\n",
      "5\n",
      "8\n",
      "13\n",
      "21\n",
      "34\n"
     ]
    }
   ],
   "source": [
    "a=0\n",
    "b=1\n",
    "num=10\n",
    "for i in range(num):\n",
    "    print(a)  #0\n",
    "    total=(a+b) #0+1\n",
    "    a=b\n",
    "    b=total"
   ]
  },
  {
   "cell_type": "markdown",
   "id": "42c9c5b5",
   "metadata": {},
   "source": [
    "# List 1"
   ]
  },
  {
   "cell_type": "code",
   "execution_count": 38,
   "id": "6f965b8b",
   "metadata": {},
   "outputs": [
    {
     "data": {
      "text/plain": [
       "[500, 400, 300, 200, 100]"
      ]
     },
     "execution_count": 38,
     "metadata": {},
     "output_type": "execute_result"
    }
   ],
   "source": [
    "L1 = [100, 200, 300, 400, 500]\n",
    "L1[::-1]"
   ]
  },
  {
   "cell_type": "code",
   "execution_count": 5,
   "id": "6542a05c",
   "metadata": {},
   "outputs": [
    {
     "data": {
      "text/plain": [
       "[2]"
      ]
     },
     "execution_count": 5,
     "metadata": {},
     "output_type": "execute_result"
    }
   ],
   "source": [
    "l21=[1,2,3,4]\n",
    "l23=[1,3,4,5]\n",
    "\n",
    "l67=[i for i in l21 if i not in l23]\n",
    "l67"
   ]
  },
  {
   "cell_type": "code",
   "execution_count": 45,
   "id": "d79bfa1b",
   "metadata": {},
   "outputs": [
    {
     "name": "stdout",
     "output_type": "stream",
     "text": [
      "[152, 156, 160, 164, 168, 172, 176, 180, 184, 188, 192, 196, 200, 204, 208, 212, 216, 220, 224, 228, 232, 236, 240, 244, 248]\n"
     ]
    }
   ],
   "source": [
    "# l1=[]\n",
    "# for i in range(150,251):\n",
    "#     if i%2==0:\n",
    "#         if i%4==0:\n",
    "#             l1.append(i)\n",
    "# print(l1)\n",
    "\n",
    "l12=[i for i in range(150,251) if i%2==0 and i%4==0]\n",
    "print(l12)\n"
   ]
  },
  {
   "cell_type": "code",
   "execution_count": 14,
   "id": "bb0f0ca8",
   "metadata": {},
   "outputs": [
    {
     "data": {
      "text/plain": [
       "[1, 2, 3, 4, 5, 6, 7]"
      ]
     },
     "execution_count": 14,
     "metadata": {},
     "output_type": "execute_result"
    }
   ],
   "source": [
    "l2=[1, 4, 9, 16, 25, 36, 49]\n",
    "\n",
    "sqrt_l=[i**0.5 for i in l2]\n",
    "sqrt_l=list(map(int,sqrt_l))\n",
    "sqrt_l\n"
   ]
  },
  {
   "cell_type": "code",
   "execution_count": 50,
   "id": "a3064485",
   "metadata": {},
   "outputs": [
    {
     "data": {
      "text/plain": [
       "[50, 51, 60, 61, 70, 71]"
      ]
     },
     "execution_count": 50,
     "metadata": {},
     "output_type": "execute_result"
    }
   ],
   "source": [
    "a = [5, 6,7]\n",
    "b = [0, 1]\n",
    "output=[]\n",
    "for i in a:\n",
    "    for j in b:\n",
    "        s=str(i)+str(j)\n",
    "        output.append(int(s))\n",
    "output\n",
    "        "
   ]
  },
  {
   "cell_type": "code",
   "execution_count": 61,
   "id": "547b19e2",
   "metadata": {},
   "outputs": [
    {
     "name": "stdout",
     "output_type": "stream",
     "text": [
      "10 400\n",
      "20 300\n",
      "30 200\n",
      "40 100\n"
     ]
    }
   ],
   "source": [
    "a1 = [10, 20, 30, 40]\n",
    "b1 = [100, 200, 300, 400]\n",
    "\n",
    "revb1=b1[::-1]\n",
    "\n",
    "for i,j in zip(a1,revb1):\n",
    "    print(i,j)\n",
    "    "
   ]
  },
  {
   "cell_type": "code",
   "execution_count": 63,
   "id": "2d947ff3",
   "metadata": {},
   "outputs": [
    {
     "data": {
      "text/plain": [
       "['Ashish', 'Atharva', 'Amit', 'Revati']"
      ]
     },
     "execution_count": 63,
     "metadata": {},
     "output_type": "execute_result"
    }
   ],
   "source": [
    "a2 = [\"Ashish\", \"\", \"Atharva\", \"Amit\", \"\", \"Revati\"]\n",
    "\n",
    "output1=[i for i in a2 if i!=\"\"]\n",
    "output1"
   ]
  },
  {
   "cell_type": "code",
   "execution_count": 89,
   "id": "2ebd8c26",
   "metadata": {},
   "outputs": [
    {
     "name": "stdout",
     "output_type": "stream",
     "text": [
      "[10, 20, [300, 400, [5000, 6000, 7000], 500], 30, 40]\n"
     ]
    },
    {
     "data": {
      "text/plain": [
       "['a', 'b', ['c', ['d', 'e', ['f', 'g', 'h', 'i', 'j'], 'k'], 'l'], 'm', 'n']"
      ]
     },
     "execution_count": 89,
     "metadata": {},
     "output_type": "execute_result"
    }
   ],
   "source": [
    "b2 = [10, 20, [300, 400, [5000, 6000], 500], 30, 40]\n",
    "\n",
    "b2[2][2].append(7000)\n",
    "print(b2)\n",
    "\n",
    "a3=[\"a\", \"b\", [\"c\", [\"d\", \"e\", [\"f\", \"g\"], \"k\"], \"l\"], \"m\", \"n\"]\n",
    "\n",
    "subList = [\"h\", \"i\", \"j\"]\n",
    "\n",
    "a3[2][1][2].extend(subList)\n",
    "a3"
   ]
  },
  {
   "cell_type": "code",
   "execution_count": 101,
   "id": "4c5e8be6",
   "metadata": {},
   "outputs": [
    {
     "data": {
      "text/plain": [
       "{'to': 2,\n",
       " 'here': 1,\n",
       " 'dac': 1,\n",
       " 'conduction': 1,\n",
       " 'dbda': 1,\n",
       " 'and': 1,\n",
       " 'welcome': 1,\n",
       " 'of': 1,\n",
       " 'iacsd': 1,\n",
       " 'courses': 1,\n",
       " 'are': 1,\n",
       " 'we': 1}"
      ]
     },
     "execution_count": 101,
     "metadata": {},
     "output_type": "execute_result"
    }
   ],
   "source": [
    "statemnt=\"Welcome to iacsd we are here conduction courses of to dac and dbda\"\n",
    "\n",
    "l=statemnt.lower().split(\" \")\n",
    "l1=list(set(l))\n",
    "dic={}\n",
    "for i in l1:\n",
    "    dic.update({i:l.count(i)})\n",
    "    \n",
    "dic"
   ]
  },
  {
   "cell_type": "code",
   "execution_count": 54,
   "id": "e8306104",
   "metadata": {},
   "outputs": [
    {
     "data": {
      "text/plain": [
       "{2: 3}"
      ]
     },
     "execution_count": 54,
     "metadata": {},
     "output_type": "execute_result"
    }
   ],
   "source": [
    "statemnt=\"Welcome to iacsd we are here conduction courses of to dac and dbda\"\n",
    "\n",
    "l=statemnt.lower().split(\" \")\n",
    "#l1=list(set(l))\n",
    "dic1={}\n",
    "\n",
    "for i in l:\n",
    "    dic1.update({i:len(i)})\n",
    "    \n",
    "dic2={}\n",
    "count=0\n",
    "for i in dic1:\n",
    "    if dic1[i]==2:\n",
    "        count+=1\n",
    "        dic2[2]=count\n",
    "    \n",
    "dic2"
   ]
  },
  {
   "cell_type": "code",
   "execution_count": 114,
   "id": "bbf78f4f",
   "metadata": {},
   "outputs": [
    {
     "name": "stdout",
     "output_type": "stream",
     "text": [
      "5\n"
     ]
    }
   ],
   "source": [
    "l=[1,2,6,8,1,2,5,8,5,5,5]\n",
    "l1=list(set(l))\n",
    "dic1={}\n",
    "l2=[]\n",
    "for i in l1:\n",
    "    dic1.update({i:l.count(i)})\n",
    "\n",
    "for i in dic1.values():\n",
    "    l2.append(i)\n",
    "max(l2)\n",
    "\n",
    "for i in dic1:\n",
    "    if dic1[i]==max(l2):\n",
    "        print(i)\n",
    "    \n",
    "    "
   ]
  },
  {
   "cell_type": "code",
   "execution_count": 5,
   "id": "57d8c4ef",
   "metadata": {},
   "outputs": [
    {
     "name": "stdout",
     "output_type": "stream",
     "text": [
      "[4, 'c', 6, 8, 9, 'g', 20, 56, 'd', 'e', 'a']\n",
      "count of 4 is 2\n",
      "count of 6 is 2\n",
      "count of 8 is 2\n",
      "count of 9 is 2\n",
      "count of 20 is 2\n",
      "count of 56 is 1\n"
     ]
    }
   ],
   "source": [
    "l=[20,56,4,8,20,6,9,4,8,6,9,'a','g','a','c','d','e']\n",
    "\n",
    "l1=list(set(l))\n",
    "print(l1)\n",
    "for i in l1:\n",
    "    if isinstance(i,str):\n",
    "        continue\n",
    "    else:\n",
    "        x=l.count(i)\n",
    "        print(\"count of {} is {}\".format(i,x))\n"
   ]
  },
  {
   "cell_type": "code",
   "execution_count": 15,
   "id": "eafa7e7f",
   "metadata": {
    "scrolled": true
   },
   "outputs": [
    {
     "name": "stdout",
     "output_type": "stream",
     "text": [
      "['9', 's', 'j', 'h', '4', 'a', 'k', 'w', '5', '6', '7', 'x', 'n', '3', '2', '1', 'c']\n",
      "count of s is 5\n",
      "count of j is 1\n",
      "count of h is 1\n",
      "count of a is 7\n",
      "count of k is 2\n",
      "count of w is 1\n",
      "count of x is 4\n",
      "count of n is 2\n",
      "count of c is 4\n"
     ]
    }
   ],
   "source": [
    "str1=\"aksh45snkjwnasx69ac7ascxa5sc1a3xx21ac\"\n",
    "l1=list(str1)\n",
    "\n",
    "str_list=list(set(l1))\n",
    "print(str_list)\n",
    "for char in str_list:\n",
    "    if char.isalpha():\n",
    "        x=l1.count(char)\n",
    "        print(\"count of {} is {}\".format(char,x))\n",
    "    \n"
   ]
  },
  {
   "cell_type": "markdown",
   "id": "424c6ff4",
   "metadata": {},
   "source": [
    "# ******String******"
   ]
  },
  {
   "cell_type": "code",
   "execution_count": 1,
   "id": "67680d65",
   "metadata": {},
   "outputs": [
    {
     "data": {
      "text/plain": [
       "{'e': 1, '.': 1, 'l': 1, 'm': 1, 'g': 3, 'o': 2, 'c': 1}"
      ]
     },
     "execution_count": 1,
     "metadata": {},
     "output_type": "execute_result"
    }
   ],
   "source": [
    "sample_input=\"goggle.com\"\n",
    "sample_list=list(sample_input)\n",
    "\n",
    "distint_list=list(set(sample_list))\n",
    "char_count={}\n",
    "for char in distint_list:\n",
    "    char_count.update({char:sample_list.count(char)})\n",
    "    \n",
    "char_count"
   ]
  },
  {
   "cell_type": "code",
   "execution_count": 14,
   "id": "447ab783",
   "metadata": {},
   "outputs": [],
   "source": [
    "def new_pro(s1):\n",
    "    s1=str(s1)\n",
    "    if len(s1)>=2:\n",
    "        output=s1[:2]+s1[-2:]\n",
    "        return output\n",
    "    else:\n",
    "        return \"Empty String\"\n"
   ]
  },
  {
   "cell_type": "code",
   "execution_count": 19,
   "id": "b33cb22b",
   "metadata": {},
   "outputs": [
    {
     "data": {
      "text/plain": [
       "'w3w3'"
      ]
     },
     "execution_count": 19,
     "metadata": {},
     "output_type": "execute_result"
    }
   ],
   "source": [
    "new_pro(\"w3\")"
   ]
  },
  {
   "cell_type": "code",
   "execution_count": 42,
   "id": "5abefbc5",
   "metadata": {},
   "outputs": [],
   "source": [
    "def change(s2):\n",
    "    l=list(s2)\n",
    "    for i in range(1,len(l)):\n",
    "        if l[i]==l[0]:\n",
    "            l[i]=\"$\"\n",
    "    return \"\".join(l)"
   ]
  },
  {
   "cell_type": "code",
   "execution_count": 43,
   "id": "b31d9352",
   "metadata": {},
   "outputs": [
    {
     "data": {
      "text/plain": [
       "'reata$t'"
      ]
     },
     "execution_count": 43,
     "metadata": {},
     "output_type": "execute_result"
    }
   ],
   "source": [
    "change(\"reatart\")"
   ]
  },
  {
   "cell_type": "code",
   "execution_count": 52,
   "id": "904c5cb9",
   "metadata": {},
   "outputs": [
    {
     "data": {
      "text/plain": [
       "'xyc abz'"
      ]
     },
     "execution_count": 52,
     "metadata": {},
     "output_type": "execute_result"
    }
   ],
   "source": [
    "def char_snap(a,b):\n",
    "    \n",
    "    new_a=b[:2]+a[2:]\n",
    "    new_b=a[:2]+b[2:]\n",
    "    return new_a+ ' '+new_b\n",
    "\n",
    "char_snap('abc','xyz')\n",
    "    "
   ]
  },
  {
   "cell_type": "code",
   "execution_count": 60,
   "id": "392521e2",
   "metadata": {},
   "outputs": [
    {
     "data": {
      "text/plain": [
       "'ab'"
      ]
     },
     "execution_count": 60,
     "metadata": {},
     "output_type": "execute_result"
    }
   ],
   "source": [
    "def add_ing(string1):\n",
    "    \n",
    "    if len(string1)>= 3 and string1.endswith(\"ing\"):\n",
    "        string1+='ly'\n",
    "        return string1\n",
    "    if len(string1)>=3:\n",
    "        string1+='ing'\n",
    "        return string1\n",
    "    else:\n",
    "        return string1\n",
    "        \n",
    "\n",
    "add_ing(\"ab\")"
   ]
  },
  {
   "cell_type": "code",
   "execution_count": 63,
   "id": "8ac81049",
   "metadata": {},
   "outputs": [
    {
     "data": {
      "text/plain": [
       "'12345678910'"
      ]
     },
     "execution_count": 63,
     "metadata": {},
     "output_type": "execute_result"
    }
   ],
   "source": [
    "n=10\n",
    "l=[]\n",
    "    \n",
    "for i in range(1,n+1):\n",
    "    l.append(str(i))\n",
    "    \n",
    "new_word=\"\".join(l)\n",
    "new_word\n",
    "        \n",
    "        "
   ]
  },
  {
   "cell_type": "code",
   "execution_count": 126,
   "id": "cdb347c1",
   "metadata": {},
   "outputs": [
    {
     "data": {
      "text/plain": [
       "'  good lyrics is good'"
      ]
     },
     "execution_count": 126,
     "metadata": {},
     "output_type": "execute_result"
    }
   ],
   "source": [
    "def not_poor(str1):\n",
    "    snot = str1.find('not')\n",
    "    spoor = str1.find('poor')\n",
    "    if spoor > snot:\n",
    "        str1 = str1.replace(str1[snot:(spoor+4)], 'good')\n",
    "        return str1\n",
    "    else:\n",
    "        return str1\n",
    "    \n",
    "        \n",
    "not_poor('lyrics is not that poor')  \n",
    "    "
   ]
  },
  {
   "cell_type": "code",
   "execution_count": 125,
   "id": "3beebde2",
   "metadata": {},
   "outputs": [
    {
     "name": "stdout",
     "output_type": "stream",
     "text": [
      "function 8\n"
     ]
    }
   ],
   "source": [
    "statement=\"Write a Python function that takes a list of words and return the longest word and the length of the longest one\"\n",
    "\n",
    "l=statement.split(\" \")\n",
    "l1=list(set(l))\n",
    "l2=[]\n",
    "word_len={}\n",
    "for i in l1:\n",
    "    word_len.update({i:len(i)})\n",
    "\n",
    "for values in word_len.values():\n",
    "    l2.append(values)\n",
    "    \n",
    "max_no=max(l2)\n",
    "\n",
    "for i in word_len:\n",
    "    if word_len[i]==max_no:\n",
    "        print(i,max_no)\n",
    "    "
   ]
  },
  {
   "cell_type": "code",
   "execution_count": 99,
   "id": "e4206380",
   "metadata": {},
   "outputs": [
    {
     "name": "stdout",
     "output_type": "stream",
     "text": [
      "function 8\n"
     ]
    }
   ],
   "source": [
    "stat=\"Write a Python function that takes a list of words and return the longest word and the length of the longest one\"\n",
    "l=stat.split()\n",
    "l1=[]\n",
    "for i in l:\n",
    "    l1.append(len(i))\n",
    "mx=max(l1)\n",
    "for i in l:\n",
    "    if len(i)==mx:\n",
    "        print(i,mx)\n",
    "    "
   ]
  },
  {
   "cell_type": "code",
   "execution_count": 106,
   "id": "52d912b9",
   "metadata": {},
   "outputs": [
    {
     "name": "stdout",
     "output_type": "stream",
     "text": [
      "[3, 1, 31, 43, 41, 13, 23, 21, 341, 321, 431, 413, 423, 421, 143, 123, 231, 243, 241, 213, 3421, 3241, 4321, 4123, 4231, 4213, 1423, 1243, 2341, 2431, 2413, 2143]\n"
     ]
    }
   ],
   "source": [
    "# input1=int(input(\"enter the number\"))\n",
    "input1=3412\n",
    "st=list(str(input1))\n",
    "new_list=[]\n",
    "from itertools import permutations\n",
    "for i in range(1,len(st)+1):\n",
    "    pr=permutations(st,i)\n",
    "    for  j in pr:\n",
    "        new_list.append(list(j))\n",
    "new_list\n",
    "\n",
    "l=list(map(lambda x: \"\".join(x),new_list))\n",
    "l=list(map(int,l))\n",
    "\n",
    "l1=list(filter(lambda x:x%2!=0,l))\n",
    "print(l1)"
   ]
  },
  {
   "cell_type": "code",
   "execution_count": 110,
   "id": "b59666b3",
   "metadata": {},
   "outputs": [],
   "source": [
    "om=[1,2,3,4,5,6,7,8,9]"
   ]
  },
  {
   "cell_type": "code",
   "execution_count": 112,
   "id": "287bdead",
   "metadata": {},
   "outputs": [
    {
     "data": {
      "text/plain": [
       "['1', '2', '3', '4', '5', '6', '7', '8', '9']"
      ]
     },
     "execution_count": 112,
     "metadata": {},
     "output_type": "execute_result"
    }
   ],
   "source": [
    "even_no=[str(i) for i in om ]\n",
    "even_no"
   ]
  },
  {
   "cell_type": "code",
   "execution_count": 134,
   "id": "7b864279",
   "metadata": {},
   "outputs": [
    {
     "data": {
      "text/plain": [
       "['y', 'k', 's', 'h', 'a', 'a']"
      ]
     },
     "execution_count": 134,
     "metadata": {},
     "output_type": "execute_result"
    }
   ],
   "source": [
    "s='akshay'\n",
    "lno=s[-1]\n",
    "l=list(s)\n",
    "l[-1]=l[0] \n",
    "l[0]=lno\n",
    "l\n"
   ]
  },
  {
   "cell_type": "code",
   "execution_count": 138,
   "id": "04b264fb",
   "metadata": {},
   "outputs": [
    {
     "data": {
      "text/plain": [
       "'<b>Python Tutorial</b>'"
      ]
     },
     "execution_count": 138,
     "metadata": {},
     "output_type": "execute_result"
    }
   ],
   "source": [
    "\n",
    "def html(sub_string,string):\n",
    "    update_string='<'+sub_string+'>'+string+'</'+sub_string+'>'\n",
    "    return update_string\n",
    "\n",
    "html('b','Python Tutorial')"
   ]
  },
  {
   "cell_type": "code",
   "execution_count": 152,
   "id": "c5230ef2",
   "metadata": {},
   "outputs": [
    {
     "name": "stdout",
     "output_type": "stream",
     "text": [
      "16 25 20 8 15 14 "
     ]
    }
   ],
   "source": [
    "a=chr(97)\n",
    "string=\"python\"\n",
    "for char in string:\n",
    "    print(ord(char)-96,end=\" \")"
   ]
  },
  {
   "cell_type": "code",
   "execution_count": 8,
   "id": "89a70f42",
   "metadata": {},
   "outputs": [
    {
     "name": "stdout",
     "output_type": "stream",
     "text": [
      "0\n",
      "1\n",
      "4\n",
      "9\n",
      "16\n"
     ]
    },
    {
     "data": {
      "text/plain": [
       "0"
      ]
     },
     "execution_count": 8,
     "metadata": {},
     "output_type": "execute_result"
    }
   ],
   "source": [
    "n=5\n",
    "l=[i**2 for i in range (n)]\n",
    "for i in l:\n",
    "    print(i)\n",
    "    \n",
    "min(l)"
   ]
  },
  {
   "cell_type": "code",
   "execution_count": 4,
   "id": "22247620",
   "metadata": {},
   "outputs": [
    {
     "name": "stdout",
     "output_type": "stream",
     "text": [
      "enter the year2000\n",
      "year is leap year\n"
     ]
    }
   ],
   "source": [
    "year=int(input(\"enter the year\"))\n",
    "\n",
    "if ((year%4==0)and(year%100!=0))or (year%400==0):\n",
    "    print(\"year is leap year\")\n",
    "else:\n",
    "    print(\"year is not leap year\")"
   ]
  },
  {
   "cell_type": "code",
   "execution_count": 8,
   "id": "7e115813",
   "metadata": {},
   "outputs": [
    {
     "data": {
      "text/plain": [
       "[[0, 0, 0],\n",
       " [0, 0, 1],\n",
       " [0, 0, 2],\n",
       " [0, 1, 0],\n",
       " [0, 1, 1],\n",
       " [0, 1, 2],\n",
       " [1, 0, 0],\n",
       " [1, 0, 1],\n",
       " [1, 0, 2],\n",
       " [1, 1, 0],\n",
       " [1, 1, 1],\n",
       " [1, 1, 2]]"
      ]
     },
     "execution_count": 8,
     "metadata": {},
     "output_type": "execute_result"
    }
   ],
   "source": [
    "l1=[0,1]\n",
    "l2=[0,1]\n",
    "l3=[0,1,2]\n",
    "l4=[]\n",
    "\n",
    "for i in l1:\n",
    "    for j in l2:\n",
    "        for k in l3:\n",
    "            l4.append([i,j,k])\n",
    "            \n",
    "l4\n",
    " "
   ]
  },
  {
   "cell_type": "code",
   "execution_count": 21,
   "id": "9c1ea78c",
   "metadata": {},
   "outputs": [
    {
     "name": "stdout",
     "output_type": "stream",
     "text": [
      "[5, 4, 3, 1]\n",
      "1\n",
      "5\n"
     ]
    }
   ],
   "source": [
    "    arr=[1,2,3,5,5,6]\n",
    "    max_no=max(arr)\n",
    "    diff={}\n",
    "    for i in arr:\n",
    "        diff.update({i:(max_no-i)})\n",
    "        \n",
    "    list1=[values for values in diff.values() if values!=0]\n",
    "    print(list1)\n",
    "    min_values=min(list1)\n",
    "    print(min_values)\n",
    "    \n",
    "    \n",
    "    for keys in diff:\n",
    "            if diff[keys]==min_values:\n",
    "                print(keys)     "
   ]
  },
  {
   "cell_type": "code",
   "execution_count": 23,
   "id": "bef18ef2",
   "metadata": {},
   "outputs": [
    {
     "data": {
      "text/plain": [
       "5"
      ]
     },
     "execution_count": 23,
     "metadata": {},
     "output_type": "execute_result"
    }
   ],
   "source": [
    "arr=[1,2,3,5,5,6]\n",
    "\n",
    "l1=list(set(arr))\n",
    "l1.sort(reverse=True)\n",
    "l1[1]"
   ]
  },
  {
   "cell_type": "code",
   "execution_count": 8,
   "id": "2e98c9df",
   "metadata": {},
   "outputs": [
    {
     "name": "stdout",
     "output_type": "stream",
     "text": [
      "robin\n",
      "smith\n",
      "aditya\n",
      "aarth\n"
     ]
    }
   ],
   "source": [
    "emp={1:'robin',4:'smith',3:'aditya',2:'aarth'}\n",
    "\n",
    "#for i in emp.values() or emp.items() or emp.keys():\n",
    "    print(i)"
   ]
  },
  {
   "cell_type": "code",
   "execution_count": 10,
   "id": "a12273bc",
   "metadata": {},
   "outputs": [
    {
     "name": "stdout",
     "output_type": "stream",
     "text": [
      "dict_items([(1, 'robin'), (4, 'smith'), (3, 'aditya'), (2, 'aarth')])\n",
      "[(2, 'aarth'), (3, 'aditya'), (1, 'robin'), (4, 'smith')]\n"
     ]
    }
   ],
   "source": [
    "emp={1:'robin',4:'smith',3:'aditya',2:'aarth'}\n",
    "print(emp.items())\n",
    "\n",
    "sorted_dic=sorted(emp.items(),key=(lambda x:x[1]))\n",
    "\n",
    "#sorted_dic1=sorted(emp.items(),key=(lambda x:emp[0]))\n",
    "\n",
    "print(sorted_dic)\n",
    "#print(sorted_dic1)"
   ]
  },
  {
   "cell_type": "code",
   "execution_count": 12,
   "id": "66832691",
   "metadata": {},
   "outputs": [
    {
     "name": "stdout",
     "output_type": "stream",
     "text": [
      "<function <lambda> at 0x000002002EA672E0>\n",
      "[2, 3, 1, 4]\n"
     ]
    }
   ],
   "source": [
    "emp={1:'robin',4:'smith',3:'aditya',2:'aarth'}\n",
    "print(lambda d:d)\n",
    "sorted_dic=sorted(emp,key=lambda d:d)\n",
    "\n",
    "sorted_on_values=sorted(emp,key=(lambda x:emp[x]))\n",
    "print(sorted_on_values)"
   ]
  },
  {
   "cell_type": "code",
   "execution_count": 10,
   "id": "1a4d0c0e",
   "metadata": {},
   "outputs": [
    {
     "data": {
      "text/plain": [
       "5"
      ]
     },
     "execution_count": 10,
     "metadata": {},
     "output_type": "execute_result"
    }
   ],
   "source": [
    "string1='abcsfdcfabcfhcabccdabcmnhabc'\n",
    "substring='abc'\n",
    "count=0\n",
    "for i in range(len(string1)-1):\n",
    "    if substring==string1[i:i+len(substring)]:\n",
    "        count+=1\n",
    "        \n",
    "count"
   ]
  },
  {
   "cell_type": "code",
   "execution_count": 12,
   "id": "10b40fdd",
   "metadata": {},
   "outputs": [
    {
     "name": "stdout",
     "output_type": "stream",
     "text": [
      "a\n",
      "k\n",
      "s\n",
      "h\n",
      "a\n"
     ]
    }
   ],
   "source": [
    "string='akshay'\n",
    "\n",
    "for i in range(len(string)-1):\n",
    "    print(string[i])"
   ]
  },
  {
   "cell_type": "code",
   "execution_count": 3,
   "id": "db48c8d6",
   "metadata": {},
   "outputs": [
    {
     "data": {
      "text/plain": [
       "'yahska'"
      ]
     },
     "execution_count": 3,
     "metadata": {},
     "output_type": "execute_result"
    }
   ],
   "source": [
    "string=\"akshay\"\n",
    "string=string[::-1]\n",
    "string"
   ]
  },
  {
   "cell_type": "markdown",
   "id": "d4db7481",
   "metadata": {},
   "source": [
    "# Count No of substrings"
   ]
  },
  {
   "cell_type": "code",
   "execution_count": 6,
   "id": "ccff77fc",
   "metadata": {},
   "outputs": [
    {
     "data": {
      "text/plain": [
       "5"
      ]
     },
     "execution_count": 6,
     "metadata": {},
     "output_type": "execute_result"
    }
   ],
   "source": [
    "total = 0\n",
    "string='ANAAANANAANANA'\n",
    "sub_string='ANA'\n",
    "for i in range(len(string)):\n",
    "    if string[i:len(string)].startswith(sub_string):\n",
    "        total += 1\n",
    "total"
   ]
  },
  {
   "cell_type": "code",
   "execution_count": 7,
   "id": "6d1c13c4",
   "metadata": {},
   "outputs": [
    {
     "name": "stdout",
     "output_type": "stream",
     "text": [
      "True\n"
     ]
    }
   ],
   "source": [
    "txt = \"Hello, welcome to my world.\"\n",
    "\n",
    "x = txt.startswith(\"Hello\")\n",
    "\n",
    "print(x)"
   ]
  },
  {
   "cell_type": "code",
   "execution_count": 10,
   "id": "324679d5",
   "metadata": {},
   "outputs": [
    {
     "name": "stdout",
     "output_type": "stream",
     "text": [
      "True\n"
     ]
    }
   ],
   "source": [
    "string='qa2'\n",
    "aplha=0\n",
    "for i in string:\n",
    "    \n",
    "    if i.isalpha():\n",
    "        aplha+=1\n",
    "if aplha>0:\n",
    "    print(True)\n",
    "else:\n",
    "    print(False)"
   ]
  },
  {
   "cell_type": "markdown",
   "id": "4fec84e8",
   "metadata": {},
   "source": [
    "# Textwrap function"
   ]
  },
  {
   "cell_type": "code",
   "execution_count": 26,
   "id": "110a1a3d",
   "metadata": {},
   "outputs": [
    {
     "name": "stdout",
     "output_type": "stream",
     "text": [
      "['ABCD', 'EFGH', 'IJKL', 'IMNO', 'QRST', 'UVWX', 'YZ']\n",
      "ABCD\n",
      "EFGH\n",
      "IJKL\n",
      "IMNO\n",
      "QRST\n",
      "UVWX\n",
      "YZ\n"
     ]
    }
   ],
   "source": [
    "string='ABCDEFGHIJKLIMNOQRSTUVWXYZ'\n",
    "width=4\n",
    "\n",
    "import textwrap\n",
    "print(textwrap.wrap(string,width))\n",
    "print(textwrap.fill(string,width))\n",
    "\n"
   ]
  },
  {
   "cell_type": "code",
   "execution_count": 34,
   "id": "fca9b6cc",
   "metadata": {},
   "outputs": [
    {
     "name": "stdout",
     "output_type": "stream",
     "text": [
      "ABCD\n",
      "EFGH\n",
      "IJKL\n",
      "IMNO\n",
      "QRST\n",
      "UVWX\n",
      "YZ\n"
     ]
    }
   ],
   "source": [
    "string='ABCDEFGHIJKLIMNOQRSTUVWXYZ'\n",
    "width=4\n",
    "\n",
    "flag=0\n",
    "while flag <= len(string):\n",
    "    print(string[flag:flag+width])\n",
    "    flag+=width"
   ]
  },
  {
   "cell_type": "code",
   "execution_count": 38,
   "id": "8cbca315",
   "metadata": {},
   "outputs": [
    {
     "name": "stdout",
     "output_type": "stream",
     "text": [
      "['AAB', 'CAA', 'ADA']\n",
      "['AB', 'AC', 'AD']\n"
     ]
    }
   ],
   "source": [
    "s1='AABCAAADA'\n",
    "width=3\n",
    "import textwrap\n",
    "l2=[]\n",
    "l3=[]\n",
    "l=textwrap.wrap(s1,width)\n",
    "print(l)\n",
    "\n",
    "for ch in l:\n",
    "    l2.append(list(set(ch)))\n",
    "    \n",
    "    \n",
    "for i in l2:\n",
    "    x=\"\".join(i)\n",
    "    l3.append(x)\n",
    "\n",
    "print(l3)\n",
    "\n"
   ]
  },
  {
   "cell_type": "code",
   "execution_count": 51,
   "id": "346c709d",
   "metadata": {},
   "outputs": [
    {
     "data": {
      "text/plain": [
       "['A', 'D']"
      ]
     },
     "execution_count": 51,
     "metadata": {},
     "output_type": "execute_result"
    }
   ],
   "source": [
    "s1='ADA'\n",
    "l=[]\n",
    "d={}\n",
    "for i in s1:\n",
    "    if ord(i) in d:\n",
    "        d[ord(i)]+=1\n",
    "    else:\n",
    "        d[ord(i)]=1\n",
    "        l.append(i)\n",
    "l\n",
    "    "
   ]
  },
  {
   "cell_type": "code",
   "execution_count": 44,
   "id": "4a5319af",
   "metadata": {},
   "outputs": [
    {
     "name": "stdout",
     "output_type": "stream",
     "text": [
      "90\n"
     ]
    }
   ],
   "source": [
    "print(ord('Z'))"
   ]
  },
  {
   "cell_type": "markdown",
   "id": "fceb03a0",
   "metadata": {},
   "source": [
    "# Decimal,Octal,hexadecimal,Binary"
   ]
  },
  {
   "cell_type": "code",
   "execution_count": 39,
   "id": "52a4ad54",
   "metadata": {},
   "outputs": [
    {
     "data": {
      "text/plain": [
       "'0b10001'"
      ]
     },
     "execution_count": 39,
     "metadata": {},
     "output_type": "execute_result"
    }
   ],
   "source": [
    "n=17\n",
    "# for i in range(1,n+1):\n",
    "#     print(i.rjust,oct(i)[2:],hex(i))\n",
    "    \n",
    "bin(n)"
   ]
  },
  {
   "cell_type": "code",
   "execution_count": 1,
   "id": "88467b56",
   "metadata": {},
   "outputs": [
    {
     "data": {
      "text/plain": [
       "['hello', 'world']"
      ]
     },
     "execution_count": 1,
     "metadata": {},
     "output_type": "execute_result"
    }
   ],
   "source": [
    "a='hello world'\n",
    "l=a.split(\" \")\n",
    "l\n",
    "\n",
    "for i in l:\n",
    "    i.capitalize()\n",
    "    l2.append\n",
    "    "
   ]
  },
  {
   "cell_type": "code",
   "execution_count": 59,
   "id": "4b948dc5",
   "metadata": {},
   "outputs": [
    {
     "name": "stdout",
     "output_type": "stream",
     "text": [
      "hello\n"
     ]
    }
   ],
   "source": [
    "print('hello'.ljust(5))"
   ]
  },
  {
   "cell_type": "code",
   "execution_count": 3,
   "id": "4aadab55",
   "metadata": {},
   "outputs": [
    {
     "data": {
      "text/plain": [
       "{1: 2, 2: 2, 4: 1}"
      ]
     },
     "execution_count": 3,
     "metadata": {},
     "output_type": "execute_result"
    }
   ],
   "source": [
    "l=[1,1,2,2,4]\n",
    "dic={}\n",
    "for i in l:\n",
    "    if i in dic:\n",
    "        dic[i]+=1\n",
    "    else:\n",
    "        dic[i]=1\n",
    "    \n",
    "dic"
   ]
  },
  {
   "cell_type": "code",
   "execution_count": 6,
   "id": "f7b3ada8",
   "metadata": {},
   "outputs": [
    {
     "name": "stdout",
     "output_type": "stream",
     "text": [
      "2\n"
     ]
    }
   ],
   "source": [
    "l=[1,1,2,2,4]\n",
    "dic={}\n",
    "l2=[]\n",
    "count=0\n",
    "for i in l:\n",
    "    #dic[i]=l.count(i)\n",
    "    dic.update({i:l.count(i)})\n",
    "    \n",
    "for i in dic.values():\n",
    "    l2.append(i)\n",
    "l3=[]\n",
    "x=max(l2)\n",
    "\n",
    "for i in dic:\n",
    "    if dic[i]==x:\n",
    "        count+=1\n",
    "        \n",
    "print(count)"
   ]
  },
  {
   "cell_type": "code",
   "execution_count": 7,
   "id": "508362a9",
   "metadata": {},
   "outputs": [
    {
     "data": {
      "text/plain": [
       "9"
      ]
     },
     "execution_count": 7,
     "metadata": {},
     "output_type": "execute_result"
    }
   ],
   "source": [
    "len('substring')"
   ]
  },
  {
   "cell_type": "code",
   "execution_count": 8,
   "id": "ea8c7420",
   "metadata": {},
   "outputs": [
    {
     "name": "stdout",
     "output_type": "stream",
     "text": [
      "5\n"
     ]
    }
   ],
   "source": [
    "n=85\n",
    "x=n%10\n",
    "print(x)"
   ]
  },
  {
   "cell_type": "code",
   "execution_count": 10,
   "id": "33eb4c21",
   "metadata": {},
   "outputs": [
    {
     "data": {
      "text/plain": [
       "['0', '5', '6']"
      ]
     },
     "execution_count": 10,
     "metadata": {},
     "output_type": "execute_result"
    }
   ],
   "source": [
    "data=[10,25,36]\n",
    "last_no=[str(i%10) for i in data]\n",
    "last_no"
   ]
  },
  {
   "cell_type": "code",
   "execution_count": 11,
   "id": "7b50fd46",
   "metadata": {},
   "outputs": [
    {
     "data": {
      "text/plain": [
       "'6'"
      ]
     },
     "execution_count": 11,
     "metadata": {},
     "output_type": "execute_result"
    }
   ],
   "source": [
    "last_no[-1]"
   ]
  },
  {
   "cell_type": "code",
   "execution_count": null,
   "id": "4fb9e967",
   "metadata": {},
   "outputs": [],
   "source": []
  },
  {
   "cell_type": "code",
   "execution_count": 3,
   "id": "34e019f3",
   "metadata": {},
   "outputs": [
    {
     "name": "stdout",
     "output_type": "stream",
     "text": [
      "None\n",
      "False\n"
     ]
    }
   ],
   "source": [
    "l=[8,9,7,5,3,1]\n",
    "l1=[5,4,2,5,1,7]\n",
    "print(l.sort())\n",
    "l1.sort()\n",
    "print(l==l1)"
   ]
  },
  {
   "cell_type": "code",
   "execution_count": 8,
   "id": "a454252e",
   "metadata": {},
   "outputs": [
    {
     "name": "stdout",
     "output_type": "stream",
     "text": [
      "0\n"
     ]
    }
   ],
   "source": [
    "A=[8,9,7,5,3,1]\n",
    "B=[5,4,2,5,1,7]\n",
    "\n",
    "# a=A.sort()\n",
    "# b=B.sort()\n",
    "# print(a)\n",
    "\n",
    "if sorted(A)==sorted(B):\n",
    "    print(\"1\") \n",
    "else:\n",
    "    print(\"0\") "
   ]
  },
  {
   "cell_type": "code",
   "execution_count": 7,
   "id": "68b18179",
   "metadata": {},
   "outputs": [
    {
     "name": "stdout",
     "output_type": "stream",
     "text": [
      "[1, 3, 5, 7, 8, 9]\n",
      "[1, 2, 4, 5, 5, 7]\n"
     ]
    }
   ],
   "source": [
    "A=[8,9,7,5,3,1]\n",
    "B=[5,4,2,5,1,7]\n",
    "print(sorted(A))\n",
    "print(sorted(B))"
   ]
  },
  {
   "cell_type": "code",
   "execution_count": 12,
   "id": "3c7ca504",
   "metadata": {},
   "outputs": [
    {
     "data": {
      "text/plain": [
       "15"
      ]
     },
     "execution_count": 12,
     "metadata": {},
     "output_type": "execute_result"
    }
   ],
   "source": [
    "l=[1,2,3,7,5]\n",
    "sum(l[2:5])"
   ]
  },
  {
   "cell_type": "code",
   "execution_count": 11,
   "id": "8240545f",
   "metadata": {},
   "outputs": [
    {
     "name": "stdout",
     "output_type": "stream",
     "text": [
      "1\n",
      "2\n",
      "3\n",
      "7\n",
      "5\n"
     ]
    }
   ],
   "source": [
    "n = 5\n",
    "s = 12\n",
    "l= [1,2,3,7,5]\n",
    "total=0\n",
    "for i in range(5):\n",
    "    total=+l[i]\n",
    "    print(total)\n",
    "    "
   ]
  },
  {
   "cell_type": "code",
   "execution_count": 6,
   "id": "42e19062",
   "metadata": {},
   "outputs": [
    {
     "name": "stdout",
     "output_type": "stream",
     "text": [
      "['A', 'B']\n"
     ]
    },
    {
     "data": {
      "text/plain": [
       "[(1, 'A'), (2, 'B')]"
      ]
     },
     "execution_count": 6,
     "metadata": {},
     "output_type": "execute_result"
    }
   ],
   "source": [
    "dic={1:\"A\",2:\"B\"}\n",
    "dic.keys()\n",
    "print(list(dic.values()))\n",
    "list(dic.items())\n"
   ]
  },
  {
   "cell_type": "code",
   "execution_count": 11,
   "id": "7061c298",
   "metadata": {},
   "outputs": [
    {
     "data": {
      "text/plain": [
       "['c', 'b', 'a', 'A']"
      ]
     },
     "execution_count": 11,
     "metadata": {},
     "output_type": "execute_result"
    }
   ],
   "source": [
    "l=['a',\"A\",\"b\",\"c\"]\n",
    "l.sort()\n",
    "l1=sorted(l,reverse=True)\n",
    "l1"
   ]
  },
  {
   "cell_type": "code",
   "execution_count": 21,
   "id": "e182f451",
   "metadata": {},
   "outputs": [
    {
     "name": "stdout",
     "output_type": "stream",
     "text": [
      "c\n",
      "b\n",
      "A\n",
      "a\n"
     ]
    }
   ],
   "source": [
    "l2=['a',\"A\",\"b\",\"c\"]\n",
    "for i in range(len(l2)-1,-1,-1):\n",
    "    print(l2[i])"
   ]
  },
  {
   "cell_type": "code",
   "execution_count": null,
   "id": "be665283",
   "metadata": {},
   "outputs": [],
   "source": []
  }
 ],
 "metadata": {
  "kernelspec": {
   "display_name": "Python 3 (ipykernel)",
   "language": "python",
   "name": "python3"
  },
  "language_info": {
   "codemirror_mode": {
    "name": "ipython",
    "version": 3
   },
   "file_extension": ".py",
   "mimetype": "text/x-python",
   "name": "python",
   "nbconvert_exporter": "python",
   "pygments_lexer": "ipython3",
   "version": "3.11.4"
  }
 },
 "nbformat": 4,
 "nbformat_minor": 5
}
