{
 "cells": [
  {
   "cell_type": "code",
   "execution_count": 3,
   "id": "b75f2d25",
   "metadata": {},
   "outputs": [
    {
     "name": "stdout",
     "output_type": "stream",
     "text": [
      "['P', '_', '@', '_']\n"
     ]
    }
   ],
   "source": [
    "string='PUAE'\n",
    "x=list(string)\n",
    "count=0\n",
    "\n",
    "for i,e in enumerate(x):\n",
    "        if e=='A' or e=='E' or e=='I' or e=='O' or e=='U':\n",
    "            count+=1\n",
    "            \n",
    "            if count%2==0:\n",
    "                x[i]='@'\n",
    "            else:\n",
    "                x[i]='_'\n",
    "\n",
    "print(x)\n",
    "                \n",
    "                   \n",
    "        "
   ]
  },
  {
   "cell_type": "code",
   "execution_count": 1,
   "id": "614d00d7",
   "metadata": {},
   "outputs": [],
   "source": [
    "def check_1(list):\n",
    "    import math\n",
    "    add=0\n",
    "    avg=0\n",
    "    count=0\n",
    "    for e in list:\n",
    "        for num in e:\n",
    "            if num%11==0:\n",
    "                count+=1\n",
    "                add+=num\n",
    "                \n",
    "            \n",
    "    if (math.sqrt(count)).is_integer():\n",
    "        print(add)\n",
    "    else:\n",
    "        avg=add/count\n",
    "        print(avg)"
   ]
  },
  {
   "cell_type": "code",
   "execution_count": 4,
   "id": "700efc92",
   "metadata": {},
   "outputs": [
    {
     "name": "stdout",
     "output_type": "stream",
     "text": [
      "51.333333333333336\n"
     ]
    }
   ],
   "source": [
    "list=[[11,34,89],[45,66,243],[123,90,77]]\n",
    "\n",
    "check_1(list)"
   ]
  },
  {
   "cell_type": "code",
   "execution_count": 5,
   "id": "99ffa22c",
   "metadata": {},
   "outputs": [
    {
     "name": "stdout",
     "output_type": "stream",
     "text": [
      "awbzcyx\n"
     ]
    }
   ],
   "source": [
    "s1='abc'\n",
    "s2='xyzw'\n",
    "ans=''\n",
    "n1=len(s1)\n",
    "n2=len(s2)\n",
    "\n",
    "if n1>n2:\n",
    "    for i in range(n2):\n",
    "        ans=ans+(s1[i]+s2[-(i+1)])\n",
    "    ans=ans+s1[n2:]\n",
    "    print(ans)\n",
    "    \n",
    "else:\n",
    "    for i in range(n1):\n",
    "        ans=ans+(s1[i]+s2[-(i+1)])\n",
    "    ans=ans+s2[:(n2-n1)]\n",
    "    print(ans)\n",
    "                 \n",
    "        "
   ]
  },
  {
   "cell_type": "code",
   "execution_count": null,
   "id": "47448a31",
   "metadata": {},
   "outputs": [],
   "source": []
  }
 ],
 "metadata": {
  "kernelspec": {
   "display_name": "Python 3 (ipykernel)",
   "language": "python",
   "name": "python3"
  },
  "language_info": {
   "codemirror_mode": {
    "name": "ipython",
    "version": 3
   },
   "file_extension": ".py",
   "mimetype": "text/x-python",
   "name": "python",
   "nbconvert_exporter": "python",
   "pygments_lexer": "ipython3",
   "version": "3.11.4"
  }
 },
 "nbformat": 4,
 "nbformat_minor": 5
}
