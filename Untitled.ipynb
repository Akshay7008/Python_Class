{
 "cells": [
  {
   "cell_type": "markdown",
   "id": "d6c78a7d",
   "metadata": {},
   "source": [
    "# String"
   ]
  },
  {
   "cell_type": "code",
   "execution_count": 1,
   "id": "b7a44abd",
   "metadata": {},
   "outputs": [
    {
     "name": "stdout",
     "output_type": "stream",
     "text": [
      "a\n",
      "k\n",
      "s\n",
      "h\n",
      "a\n",
      "y\n"
     ]
    }
   ],
   "source": [
    "s1=\"akshay\"\n",
    "\n",
    "for char in s1:\n",
    "    print(char)"
   ]
  },
  {
   "cell_type": "code",
   "execution_count": 4,
   "id": "47fe70bc",
   "metadata": {},
   "outputs": [
    {
     "name": "stdout",
     "output_type": "stream",
     "text": [
      "a\n",
      "k\n",
      "s\n",
      "h\n",
      "a\n",
      "y\n"
     ]
    }
   ],
   "source": [
    "for i in range(len(s1)):\n",
    "    print(s1[i])"
   ]
  },
  {
   "cell_type": "markdown",
   "id": "653cf3c8",
   "metadata": {},
   "source": [
    "# Convert string into list"
   ]
  },
  {
   "cell_type": "code",
   "execution_count": 6,
   "id": "4f256c12",
   "metadata": {},
   "outputs": [
    {
     "name": "stdout",
     "output_type": "stream",
     "text": [
      "['a', 'k', 's', 'h', 'a', 'y']\n"
     ]
    }
   ],
   "source": [
    "l1 =list(s1)\n",
    "print(l1)"
   ]
  },
  {
   "cell_type": "code",
   "execution_count": 2,
   "id": "cc9cc46b",
   "metadata": {},
   "outputs": [
    {
     "name": "stdout",
     "output_type": "stream",
     "text": [
      "1\n",
      "2\n",
      "3\n",
      "4\n",
      "5\n"
     ]
    }
   ],
   "source": [
    "num=\"12345\"\n",
    "\n",
    "for digit in num:\n",
    "     print(digit)\n",
    "\n",
    "#digit=list(num)"
   ]
  },
  {
   "cell_type": "code",
   "execution_count": null,
   "id": "fbee8e93",
   "metadata": {},
   "outputs": [],
   "source": []
  }
 ],
 "metadata": {
  "kernelspec": {
   "display_name": "Python 3 (ipykernel)",
   "language": "python",
   "name": "python3"
  },
  "language_info": {
   "codemirror_mode": {
    "name": "ipython",
    "version": 3
   },
   "file_extension": ".py",
   "mimetype": "text/x-python",
   "name": "python",
   "nbconvert_exporter": "python",
   "pygments_lexer": "ipython3",
   "version": "3.11.4"
  }
 },
 "nbformat": 4,
 "nbformat_minor": 5
}
