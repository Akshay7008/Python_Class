{
 "cells": [
  {
   "cell_type": "code",
   "execution_count": 5,
   "id": "5dc58a99",
   "metadata": {},
   "outputs": [
    {
     "name": "stdout",
     "output_type": "stream",
     "text": [
      "54\n"
     ]
    }
   ],
   "source": [
    "print(20054%500)"
   ]
  },
  {
   "cell_type": "markdown",
   "id": "f4e288d8",
   "metadata": {},
   "source": [
    "# Number of notes"
   ]
  },
  {
   "cell_type": "code",
   "execution_count": 9,
   "id": "a279d921",
   "metadata": {},
   "outputs": [
    {
     "name": "stdout",
     "output_type": "stream",
     "text": [
      "enter the amount4511\n",
      "Number of 2000 notes 2\n",
      "Number of 500 notes 1\n",
      "Number of 10 notes 1\n",
      "Number of 1 notes 1\n"
     ]
    }
   ],
   "source": [
    "ruppes=int(input('enter the amount'))\n",
    "\n",
    "no_2000=ruppes//2000\n",
    "print('Number of 2000 notes',no_2000)\n",
    "if no_2000>0:\n",
    "    rem_ruppes=ruppes%2000\n",
    "    \n",
    "no_500=rem_ruppes//500\n",
    "print('Number of 500 notes',no_500)\n",
    "if no_500>0:\n",
    "    rem_ruppes=ruppes%500\n",
    "    \n",
    "no_10=rem_ruppes//10\n",
    "print('Number of 10 notes',no_10)\n",
    "if no_500>0:\n",
    "    rem_ruppes=ruppes%10\n",
    "    \n",
    "no_1=rem_ruppes//1\n",
    "print('Number of 1 notes',no_1)\n",
    "if no_500>0:\n",
    "    rem_ruppes=ruppes%1\n"
   ]
  },
  {
   "cell_type": "markdown",
   "id": "4f8cab03",
   "metadata": {},
   "source": [
    "# Number of Units"
   ]
  },
  {
   "cell_type": "code",
   "execution_count": 14,
   "id": "70d9b203",
   "metadata": {},
   "outputs": [
    {
     "name": "stdout",
     "output_type": "stream",
     "text": [
      "Enter teh units100\n",
      "NO charge\n"
     ]
    }
   ],
   "source": [
    "Units=int(input('Enter teh units'))\n",
    "\n",
    "if Units<=100:\n",
    "    print('NO charge')\n",
    "if Units>100 and Units<200:\n",
    "    charge=(Units-100)*5\n",
    "    print(charge)\n",
    "if Units>200:\n",
    "    charge=(Units-200)*10+(100*5)\n",
    "    print(charge)\n"
   ]
  },
  {
   "cell_type": "code",
   "execution_count": 59,
   "id": "ceedfb8c",
   "metadata": {},
   "outputs": [
    {
     "name": "stdout",
     "output_type": "stream",
     "text": [
      "Enter the number5\n",
      "\n",
      "\n",
      "\n",
      "\n",
      "\n"
     ]
    }
   ],
   "source": [
    "num=int(input('Enter the number'))\n",
    "x=''\n",
    "for i in range(num):\n",
    "    print(x*i)\n",
    "    x+str(i)\n"
   ]
  },
  {
   "cell_type": "code",
   "execution_count": 52,
   "id": "51a68104",
   "metadata": {},
   "outputs": [
    {
     "name": "stdout",
     "output_type": "stream",
     "text": [
      "Enter the number5\n",
      "0\n",
      "1\n",
      "2\n",
      "3\n",
      "4\n"
     ]
    }
   ],
   "source": [
    "num=int(input('Enter the number'))\n",
    "\n",
    "for i in range(num):\n",
    "    print()"
   ]
  },
  {
   "cell_type": "code",
   "execution_count": 79,
   "id": "ea27f83d",
   "metadata": {},
   "outputs": [
    {
     "name": "stdout",
     "output_type": "stream",
     "text": [
      "1\n",
      "12\n",
      "123\n",
      "1234\n",
      "12345\n"
     ]
    }
   ],
   "source": [
    "n=5\n",
    "a=''\n",
    "\n",
    "for i in range(1,n+1):\n",
    "    a=a+str(i)\n",
    "    print(a)"
   ]
  },
  {
   "cell_type": "code",
   "execution_count": 10,
   "id": "058e1c0f",
   "metadata": {},
   "outputs": [
    {
     "name": "stdout",
     "output_type": "stream",
     "text": [
      "    1\n",
      "   12\n",
      "  123\n",
      " 1234\n",
      "12345\n"
     ]
    }
   ],
   "source": [
    "n=5\n",
    "a=''\n",
    "sp=n-1\n",
    "for i in range(1,n+1):\n",
    "    a=a+str(i)\n",
    "    print(' '*sp,a,sep='')\n",
    "    sp=sp-1\n"
   ]
  },
  {
   "cell_type": "code",
   "execution_count": 80,
   "id": "242d206d",
   "metadata": {},
   "outputs": [
    {
     "name": "stdout",
     "output_type": "stream",
     "text": [
      "    \n",
      "   *\n",
      "  **\n",
      " ***\n",
      "****\n"
     ]
    }
   ],
   "source": [
    "num=4\n",
    "sp=n-1\n",
    "for i in range(num+1):\n",
    "    print(' '*sp,'*'*i,sep='')\n",
    "    sp=sp-1"
   ]
  },
  {
   "cell_type": "code",
   "execution_count": 40,
   "id": "640d00e7",
   "metadata": {},
   "outputs": [
    {
     "name": "stdout",
     "output_type": "stream",
     "text": [
      "    \n",
      "*   \n",
      "**  \n",
      "*** \n",
      "****\n",
      "***\n",
      "* \n"
     ]
    }
   ],
   "source": [
    "num=4\n",
    "sp=n-1\n",
    "for i in range(num+1):\n",
    "    print('*'*i,' '*sp,sep='')\n",
    "    sp=sp-1\n",
    "sp1=0\n",
    "for j in range(num//2+1,0,-2):\n",
    "    print('*'*j,' '*sp1,sep='')\n",
    "    sp1=sp1+1\n"
   ]
  },
  {
   "cell_type": "code",
   "execution_count": 39,
   "id": "da088073",
   "metadata": {},
   "outputs": [
    {
     "name": "stdout",
     "output_type": "stream",
     "text": [
      "3\n"
     ]
    }
   ],
   "source": [
    "a=4//2+1\n",
    "print(a)"
   ]
  },
  {
   "cell_type": "code",
   "execution_count": 23,
   "id": "331a60d1",
   "metadata": {},
   "outputs": [
    {
     "name": "stdout",
     "output_type": "stream",
     "text": [
      "  *\n",
      " ***\n",
      "*****\n"
     ]
    }
   ],
   "source": [
    "n=5\n",
    "sp=n//2\n",
    "for i in range(1,n+1,2):\n",
    "    print(' '*sp,'*'*i,sep='')\n",
    "    sp=sp-1\n"
   ]
  },
  {
   "cell_type": "code",
   "execution_count": 30,
   "id": "9f3b8465",
   "metadata": {},
   "outputs": [
    {
     "name": "stdout",
     "output_type": "stream",
     "text": [
      "  *\n",
      " ***\n",
      "*****\n",
      " ***\n",
      "  *\n"
     ]
    }
   ],
   "source": [
    "n=5\n",
    "sp=n//2\n",
    "sp1=0\n",
    "for i in range(1,n+1,2):\n",
    "    print(' '*sp,'*'*i,sep='')\n",
    "    sp=sp-1\n",
    "for j in range(n//2+1,0,-2):\n",
    "    print(' '*sp1,'*'*j,sep=' ')\n",
    "    sp1=sp1+1\n"
   ]
  },
  {
   "cell_type": "code",
   "execution_count": 43,
   "id": "33814c26",
   "metadata": {},
   "outputs": [
    {
     "name": "stdout",
     "output_type": "stream",
     "text": [
      "***\n",
      " *\n"
     ]
    }
   ],
   "source": [
    "n=5\n",
    "sp1=0\n",
    "for j in range(n//2+1,0,-2):\n",
    "    print(' '*sp1,'*'*j,sep='')\n",
    "    sp1=sp1+1"
   ]
  },
  {
   "cell_type": "code",
   "execution_count": 67,
   "id": "e79e8609",
   "metadata": {},
   "outputs": [
    {
     "data": {
      "text/plain": [
       "[80, 30, 10]"
      ]
     },
     "execution_count": 67,
     "metadata": {},
     "output_type": "execute_result"
    }
   ],
   "source": [
    "l=[10,20,30,50,80]\n",
    "l[2:4]\n",
    "l[::-2]"
   ]
  },
  {
   "cell_type": "code",
   "execution_count": 70,
   "id": "7a6496aa",
   "metadata": {},
   "outputs": [
    {
     "name": "stdout",
     "output_type": "stream",
     "text": [
      "[50, 65, 23, 82, 100]\n"
     ]
    }
   ],
   "source": [
    "def myfunc(n):\n",
    "    return abs(n - 50)\n",
    "\n",
    "thislist = [100, 50, 65, 82, 23]\n",
    "x=sorted(thislist,key = myfunc)\n",
    "print(x)"
   ]
  },
  {
   "cell_type": "code",
   "execution_count": 75,
   "id": "76949902",
   "metadata": {},
   "outputs": [
    {
     "data": {
      "text/plain": [
       "['d', 'y', 'w', 'e', '3']"
      ]
     },
     "execution_count": 75,
     "metadata": {},
     "output_type": "execute_result"
    }
   ],
   "source": [
    "string='kdweedtyyunvasw124533'\n",
    "set1=set()\n",
    "\n",
    "for char in string:\n",
    "    x=string.count(char)\n",
    "    \n",
    "    if  x>1:\n",
    "        set1.add(char)\n",
    "        \n",
    "list(set1)"
   ]
  },
  {
   "cell_type": "markdown",
   "id": "016c566f",
   "metadata": {},
   "source": [
    "# List"
   ]
  },
  {
   "cell_type": "code",
   "execution_count": 76,
   "id": "cb48da8e",
   "metadata": {},
   "outputs": [
    {
     "data": {
      "text/plain": [
       "[400, 300, 200, 100]"
      ]
     },
     "execution_count": 76,
     "metadata": {},
     "output_type": "execute_result"
    }
   ],
   "source": [
    "l=[100,200,300,400]\n",
    "l[::-1]"
   ]
  },
  {
   "cell_type": "code",
   "execution_count": 77,
   "id": "24edbdd0",
   "metadata": {},
   "outputs": [
    {
     "name": "stdout",
     "output_type": "stream",
     "text": [
      "[150, 152, 154, 156, 158, 160, 162, 164, 166, 168, 170, 172, 174, 176, 178, 180, 182, 184, 186, 188, 190, 192, 194, 196, 198, 200, 202, 204, 206, 208, 210, 212, 214, 216, 218, 220, 222, 224, 226, 228, 230, 232, 234, 236, 238, 240, 242, 244, 246, 248]\n",
      "[152, 156, 160, 164, 168, 172, 176, 180, 184, 188, 192, 196, 200, 204, 208, 212, 216, 220, 224, 228, 232, 236, 240, 244, 248]\n",
      "[154, 165, 176, 187, 198, 209, 220, 231, 242]\n"
     ]
    }
   ],
   "source": [
    "l1=[]\n",
    "l2=[]\n",
    "l3=[]\n",
    "\n",
    "for e in range(150,250):\n",
    "    if e%2==0:\n",
    "        l1.append(e)\n",
    "    if e%4==0:\n",
    "        l2.append(e)\n",
    "    if e%11==0:\n",
    "        l3.append(e)\n",
    "        \n",
    "print(l1)\n",
    "print(l2)\n",
    "print(l3)"
   ]
  },
  {
   "cell_type": "code",
   "execution_count": 88,
   "id": "bb73a036",
   "metadata": {},
   "outputs": [
    {
     "name": "stdout",
     "output_type": "stream",
     "text": [
      "[1, 2, 3, 4, 5, 6]\n"
     ]
    }
   ],
   "source": [
    "import math\n",
    "list=[1,4,9,16,25,36]\n",
    "sqrt_list=[]\n",
    "for e in list:\n",
    "    sqrt_list.append(int(math.sqrt(e)))\n",
    "    \n",
    "print(sqrt_list) "
   ]
  },
  {
   "cell_type": "code",
   "execution_count": 1,
   "id": "c8be4983",
   "metadata": {},
   "outputs": [
    {
     "name": "stdout",
     "output_type": "stream",
     "text": [
      "['50', '51', '60', '61', '70', '71']\n",
      "[50, 51, 60, 61, 70, 71]\n"
     ]
    }
   ],
   "source": [
    "list1=[5,6,7]\n",
    "list2=[0,1]\n",
    "l3=[]\n",
    "for e1 in list1:\n",
    "    for e2 in list2:\n",
    "        a=str(e1)+str(e2)\n",
    "        l3.append(a)\n",
    "\n",
    "print(l3)\n",
    "a=list(map(int, l3))\n",
    "print(a)"
   ]
  },
  {
   "cell_type": "code",
   "execution_count": 2,
   "id": "da56b943",
   "metadata": {},
   "outputs": [
    {
     "name": "stdout",
     "output_type": "stream",
     "text": [
      "['Ashish', 'Atharva', 'Amit', 'Revati']\n"
     ]
    }
   ],
   "source": [
    "list1 = [\"Ashish\", \"\", \"Atharva\", \"Amit\", \"\", \"Revati\"]\n",
    "\n",
    "new_list=[]\n",
    "\n",
    "for char in list1:\n",
    "    if char==\"\":\n",
    "        list1.remove(\"\")\n",
    "print(list1)"
   ]
  },
  {
   "cell_type": "code",
   "execution_count": 10,
   "id": "6fa07129",
   "metadata": {},
   "outputs": [
    {
     "name": "stdout",
     "output_type": "stream",
     "text": [
      "[10, 20, [300, 400, [5000, 6000, 7000], 500], 30, 40]\n"
     ]
    }
   ],
   "source": [
    "list1 = [10, 20, [300, 400, [5000, 6000], 500], 30, 40]\n",
    "\n",
    "#l2=list1[2][2]\n",
    "#l2.insert(2,7000)\n",
    "l2=[7000]\n",
    "list1[2][2].extend(l2)\n",
    "print(list1)"
   ]
  },
  {
   "cell_type": "code",
   "execution_count": 11,
   "id": "6dfe992c",
   "metadata": {},
   "outputs": [
    {
     "name": "stdout",
     "output_type": "stream",
     "text": [
      "[5, 10, 15, 200, 25, 50, 20]\n"
     ]
    }
   ],
   "source": [
    "list1 = [5, 10, 15, 20, 25, 50, 20]\n",
    "\n",
    "list1[3]=200\n",
    "print(list1)"
   ]
  },
  {
   "cell_type": "code",
   "execution_count": 4,
   "id": "0c38f184",
   "metadata": {},
   "outputs": [
    {
     "name": "stdout",
     "output_type": "stream",
     "text": [
      "[5, 15, 25, 50]\n"
     ]
    }
   ],
   "source": [
    "new_list = [5, 20, 15, 20, 25, 50, 20]\n",
    "for e in new_list:\n",
    "    if e==20:\n",
    "        new_list.remove(e)\n",
    "print(new_list)"
   ]
  },
  {
   "cell_type": "code",
   "execution_count": 11,
   "id": "e82a2683",
   "metadata": {},
   "outputs": [
    {
     "name": "stdout",
     "output_type": "stream",
     "text": [
      "[5, 20, 100, 15, 20, 25, 50, 20]\n"
     ]
    }
   ],
   "source": [
    "new_list1 = [5, 20, 15, 20, 25, 50, 20]\n",
    "\n",
    "new_list1.insert(2,100)\n",
    "print(new_list1)"
   ]
  },
  {
   "cell_type": "code",
   "execution_count": 5,
   "id": "99a91426",
   "metadata": {},
   "outputs": [
    {
     "name": "stdout",
     "output_type": "stream",
     "text": [
      "2\n"
     ]
    }
   ],
   "source": [
    "Str1 = '0111'\n",
    "sub_str='11'\n",
    "count=0\n",
    "x=len(sub_str)\n",
    "#print(x)\n",
    "\n",
    "for i in range(len(Str1)):\n",
    "    if sub_str==Str1[i:i+x]:\n",
    "        count+=1\n",
    "    \n",
    "print(count)\n",
    "    "
   ]
  },
  {
   "cell_type": "code",
   "execution_count": 1,
   "id": "5827fe72",
   "metadata": {
    "scrolled": true
   },
   "outputs": [
    {
     "name": "stdout",
     "output_type": "stream",
     "text": [
      "ABCD\n",
      "BCDE\n",
      "CDEF\n",
      "DEFG\n",
      "EFGH\n",
      "FGHI\n",
      "GHIJ\n",
      "HIJK\n",
      "IJKL\n",
      "JKLI\n",
      "KLIM\n",
      "LIMN\n",
      "IMNO\n",
      "MNOQ\n",
      "NOQR\n",
      "OQRS\n",
      "QRST\n",
      "RSTU\n",
      "STUV\n",
      "TUVW\n",
      "UVWX\n",
      "VWXY\n",
      "WXYZ\n",
      "XYZ\n",
      "YZ\n",
      "Z\n"
     ]
    }
   ],
   "source": [
    "string='ABCDEFGHIJKLIMNOQRSTUVWXYZ'\n",
    "width=4\n",
    "\n",
    "len_str=len(string)\n",
    "\n",
    "for i in range(len_str):\n",
    "    if len(string[i:i+width])==width:\n",
    "        print(string[i:i+width])\n",
    "    else:\n",
    "        print(string[i:])\n",
    "        "
   ]
  },
  {
   "cell_type": "code",
   "execution_count": 17,
   "id": "44d40234",
   "metadata": {},
   "outputs": [
    {
     "name": "stdout",
     "output_type": "stream",
     "text": [
      "[9, 99, 999]\n",
      "1107\n"
     ]
    }
   ],
   "source": [
    "#9+99+999+9999+....\n",
    "num='9'\n",
    "l1=[]\n",
    "for i in range(1,4):\n",
    "    l1.append(int(num*i))\n",
    "    \n",
    "print(l1)\n",
    "total=sum(l1)\n",
    "print(total)\n",
    "    "
   ]
  },
  {
   "cell_type": "code",
   "execution_count": 16,
   "id": "756cd57c",
   "metadata": {},
   "outputs": [
    {
     "name": "stdout",
     "output_type": "stream",
     "text": [
      "18\n"
     ]
    }
   ],
   "source": [
    "#d=sqrt(((x2-x1)**2)+((y2-y1)**2))\n",
    "\n",
    "import math\n",
    "\n",
    "p=[5,20,20,10]\n",
    "#p2=[5,10]\n",
    "\n",
    "if p[0]>p[2] :\n",
    "    x=p[0]-p[2]\n",
    "    \n",
    "else:\n",
    "    x=p[2]-p[0]\n",
    "    \n",
    "if p[1]>p[3]:\n",
    "    y=p[1]-p[3]\n",
    "else:\n",
    "    y=p[3]-p[1]\n",
    "    \n",
    "distance=math.sqrt((x**2)+(y**2))\n",
    "print(round(distance))\n",
    "\n",
    "\n",
    "    "
   ]
  },
  {
   "cell_type": "code",
   "execution_count": 21,
   "id": "5c5f0d66",
   "metadata": {
    "scrolled": true
   },
   "outputs": [
    {
     "name": "stdout",
     "output_type": "stream",
     "text": [
      "1\n",
      "2\n",
      "3\n",
      "4\n",
      "5\n",
      "6\n",
      "8\n",
      "10\n",
      "12\n",
      "15\n",
      "20\n",
      "24\n",
      "30\n",
      "40\n",
      "60\n",
      "120\n",
      "16\n"
     ]
    }
   ],
   "source": [
    "n=120\n",
    "count=0\n",
    "\n",
    "for i in range(1,n+1):\n",
    "    if n%i==0:\n",
    "        print(i)\n",
    "        count+=1\n",
    "print(count)"
   ]
  },
  {
   "cell_type": "code",
   "execution_count": 24,
   "id": "f08f0c45",
   "metadata": {},
   "outputs": [
    {
     "name": "stdout",
     "output_type": "stream",
     "text": [
      "Enter the number2500\n",
      "Enter number is valid 2500\n",
      "Enter the number36\n",
      "PLzzz Enter valid number;invalid\n"
     ]
    }
   ],
   "source": [
    "no=2\n",
    "for i in range(no):\n",
    "    num=int(input('Enter the number'))\n",
    "    if len(str(num))==4 and num<3000:\n",
    "        print(\"Enter number is valid {}\".format(num))\n",
    "    else:\n",
    "        print('PLzzz Enter valid number;invalid')\n",
    "        "
   ]
  },
  {
   "cell_type": "code",
   "execution_count": 30,
   "id": "ac031634",
   "metadata": {},
   "outputs": [],
   "source": [
    "import math\n",
    "def prime_no(num):   \n",
    "    for n in range(num):\n",
    "        if n>1:\n",
    "            if num%n==0:\n",
    "                return 'Not prime'\n",
    "    else:\n",
    "        return 'prime'\n",
    "    \n",
    "def amstrong_no(num):\n",
    "    st=str(num)\n",
    "    add=0\n",
    "    order=len(st)\n",
    "    for e in st:\n",
    "        add+=int(e)**order\n",
    "        \n",
    "    if add==num:\n",
    "        return 'Amstrong no'\n",
    "    else:\n",
    "        return 'not Amstrong no'\n",
    "           \n",
    "def count_vol(name):\n",
    "    l1=['a','e','i','o','u']\n",
    "    length=len(name)\n",
    "    count=0    \n",
    "    for char in name:\n",
    "        if char in l1:\n",
    "            count+=1\n",
    "        x=name.count('s')               \n",
    "    if count%2!=0:\n",
    "        return 1\n",
    "    if x==2:\n",
    "        return 2\n",
    "    \n",
    "def find_midvol(name):\n",
    "    l1=['a','e','i','o','u']\n",
    "    l=len(name)    \n",
    "    char=name[l//2]\n",
    "    char1=name[l//2-1]\n",
    "    #print(char,char1)    \n",
    "    if l%2!=0:\n",
    "        if char in l1:\n",
    "            return True\n",
    "        else:\n",
    "            return False\n",
    "    else :\n",
    "        if (char in l1) or (char1 in l1):\n",
    "            return True\n",
    "        else:\n",
    "            return False\n",
    "        \n",
    "def check_values(list1):    \n",
    "    for e in list1:\n",
    "        name1,id1=e.lower().split(':')\n",
    "        id1=int(id1)\n",
    "        if count_vol(name1)==1:\n",
    "            a=math.sqrt(id1)\n",
    "            print(a)\n",
    "        elif count_vol(name1)==2:\n",
    "            print(prime_no(id1))\n",
    "        elif find_midvol(name1)==True:\n",
    "            print(amstrong_no(id1))     "
   ]
  },
  {
   "cell_type": "code",
   "execution_count": null,
   "id": "82103095",
   "metadata": {},
   "outputs": [],
   "source": []
  },
  {
   "cell_type": "code",
   "execution_count": 34,
   "id": "81cfdbfe",
   "metadata": {},
   "outputs": [
    {
     "name": "stdout",
     "output_type": "stream",
     "text": [
      "5.0\n",
      "Not prime\n",
      "not Amstrong no\n"
     ]
    }
   ],
   "source": [
    "l=['akshayi:25','hss:12','rmiesk:154']\n",
    "\n",
    "check_values(l)"
   ]
  },
  {
   "cell_type": "code",
   "execution_count": 27,
   "id": "0b1edd61",
   "metadata": {},
   "outputs": [
    {
     "name": "stdout",
     "output_type": "stream",
     "text": [
      "akshay\n",
      "12\n"
     ]
    }
   ],
   "source": [
    "name='akshay'\n",
    "\n",
    "x=name.count('a')\n",
    "#print(x)\n",
    "\n",
    "#name.index('s')\n",
    "\n",
    "if name.index('a')==name.index('a')==1:\n",
    "    print('1')\n",
    "    \n",
    "st1='akshay:12'\n",
    "name,id1=st1.lower().split(':')\n",
    "print(name)\n",
    "print(id1)\n",
    "\n",
    "l=['akshay:1','rahul:2']\n",
    "\n",
    "for e in l:\n",
    "    "
   ]
  },
  {
   "cell_type": "code",
   "execution_count": 18,
   "id": "94a40c35",
   "metadata": {},
   "outputs": [],
   "source": [
    "def find_midvol(name):\n",
    "    l1=['a','e','i','o','u']\n",
    "    l=len(name)\n",
    "    \n",
    "    char=name[l//2]\n",
    "    char1=name[l//2-1]\n",
    "    #print(char,char1)\n",
    "    \n",
    "    if l%2!=0:\n",
    "        if char in l1:\n",
    "            return True\n",
    "        else:\n",
    "            return False\n",
    "    else :\n",
    "        if (char in l1) or (char1 in l1):\n",
    "            return True\n",
    "        else:\n",
    "            return False"
   ]
  },
  {
   "cell_type": "code",
   "execution_count": 19,
   "id": "ea043861",
   "metadata": {},
   "outputs": [
    {
     "data": {
      "text/plain": [
       "False"
      ]
     },
     "execution_count": 19,
     "metadata": {},
     "output_type": "execute_result"
    }
   ],
   "source": [
    "find_midvol('omyyar')"
   ]
  },
  {
   "cell_type": "code",
   "execution_count": 36,
   "id": "1940e94c",
   "metadata": {},
   "outputs": [
    {
     "name": "stdout",
     "output_type": "stream",
     "text": [
      "False\n"
     ]
    }
   ],
   "source": [
    "import sympy\n",
    "a=sympy.isprime(12)\n",
    "print(a)"
   ]
  },
  {
   "cell_type": "code",
   "execution_count": 37,
   "id": "e36de2c7",
   "metadata": {},
   "outputs": [
    {
     "data": {
      "text/plain": [
       "['__doc__',\n",
       " '__loader__',\n",
       " '__name__',\n",
       " '__package__',\n",
       " '__spec__',\n",
       " 'acos',\n",
       " 'acosh',\n",
       " 'asin',\n",
       " 'asinh',\n",
       " 'atan',\n",
       " 'atan2',\n",
       " 'atanh',\n",
       " 'cbrt',\n",
       " 'ceil',\n",
       " 'comb',\n",
       " 'copysign',\n",
       " 'cos',\n",
       " 'cosh',\n",
       " 'degrees',\n",
       " 'dist',\n",
       " 'e',\n",
       " 'erf',\n",
       " 'erfc',\n",
       " 'exp',\n",
       " 'exp2',\n",
       " 'expm1',\n",
       " 'fabs',\n",
       " 'factorial',\n",
       " 'floor',\n",
       " 'fmod',\n",
       " 'frexp',\n",
       " 'fsum',\n",
       " 'gamma',\n",
       " 'gcd',\n",
       " 'hypot',\n",
       " 'inf',\n",
       " 'isclose',\n",
       " 'isfinite',\n",
       " 'isinf',\n",
       " 'isnan',\n",
       " 'isqrt',\n",
       " 'lcm',\n",
       " 'ldexp',\n",
       " 'lgamma',\n",
       " 'log',\n",
       " 'log10',\n",
       " 'log1p',\n",
       " 'log2',\n",
       " 'modf',\n",
       " 'nan',\n",
       " 'nextafter',\n",
       " 'perm',\n",
       " 'pi',\n",
       " 'pow',\n",
       " 'prod',\n",
       " 'radians',\n",
       " 'remainder',\n",
       " 'sin',\n",
       " 'sinh',\n",
       " 'sqrt',\n",
       " 'tan',\n",
       " 'tanh',\n",
       " 'tau',\n",
       " 'trunc',\n",
       " 'ulp']"
      ]
     },
     "execution_count": 37,
     "metadata": {},
     "output_type": "execute_result"
    }
   ],
   "source": [
    "import math\n",
    "dir(math)"
   ]
  },
  {
   "cell_type": "code",
   "execution_count": 55,
   "id": "84f7e116",
   "metadata": {},
   "outputs": [
    {
     "name": "stdout",
     "output_type": "stream",
     "text": [
      "the 20 is occur :2\n",
      "the 4 is occur :2\n",
      "the 8 is occur :2\n",
      "the 20 is occur :2\n",
      "the 6 is occur :2\n",
      "the 9 is occur :2\n",
      "the 4 is occur :2\n",
      "the 8 is occur :2\n",
      "the 6 is occur :2\n",
      "the 9 is occur :2\n",
      "{4, 6, 8, 9, 20}\n",
      "[4, 6, 8, 9, 20]\n"
     ]
    }
   ],
   "source": [
    "#WAP to find unique numbers in an array and count their occurance.\n",
    "\n",
    "l=[20,56,4,8,20,6,9,4,8,6,9,'a','g','a','c','d','e']\n",
    "a2='abcdefghijklmonoqrstuvwyz'\n",
    "a2=list(a2)\n",
    "#print(a2)\n",
    "set1=set()\n",
    "\n",
    "for e in l:\n",
    "    if isinstance(e,str):\n",
    "        break\n",
    "    else:\n",
    "        x=l.count(e)\n",
    "    \n",
    "        if x>1:\n",
    "            print('the {} is occur :{}'.format(e,x))\n",
    "            set1.add(e)\n",
    "        #in set we can't use append we have to add ele e\n",
    "        \n",
    "print(set1)\n",
    "l1=list(set1)\n",
    "print(l1)"
   ]
  },
  {
   "cell_type": "code",
   "execution_count": 50,
   "id": "232febae",
   "metadata": {},
   "outputs": [
    {
     "name": "stdout",
     "output_type": "stream",
     "text": [
      "the a is occur :4\n",
      "the a is occur :4\n",
      "the l is occur :2\n",
      "the k is occur :2\n",
      "the a is occur :4\n",
      "the k is occur :2\n",
      "the a is occur :4\n",
      "the f is occur :5\n",
      "the l is occur :2\n",
      "the f is occur :5\n",
      "the n is occur :2\n",
      "the n is occur :2\n",
      "the j is occur :3\n",
      "the j is occur :3\n",
      "the w is occur :2\n",
      "the f is occur :5\n",
      "the w is occur :2\n",
      "the f is occur :5\n",
      "the j is occur :3\n",
      "the f is occur :5\n",
      "{'w', 'k', 'l', 'n', 'f', 'a', 'j'}\n",
      "['w', 'k', 'l', 'n', 'f', 'a', 'j']\n"
     ]
    }
   ],
   "source": [
    "#WAP to find unique words in a sentence and count their occurance.\n",
    "#WAP to find unique characters in a sentence and count their occurance.\n",
    "\n",
    "apha='aalkakaflfmcnnjhjwfwfsjf12341313'\n",
    "a='abcdefghijklmonoqrstuvwyz'\n",
    "set1=set()\n",
    "\n",
    "for e in apha:\n",
    "    if e.isalpha():\n",
    "        x=apha.count(e)\n",
    "    \n",
    "        if x>1:\n",
    "            print('the {} is occur :{}'.format(e,x))\n",
    "            set1.add(e)\n",
    "        #in set we can't use append we have to add ele e\n",
    "        \n",
    "print(set1)\n",
    "l1=list(set1)\n",
    "print(l1)"
   ]
  },
  {
   "cell_type": "code",
   "execution_count": 22,
   "id": "7d8e458c",
   "metadata": {},
   "outputs": [
    {
     "data": {
      "text/plain": [
       "False"
      ]
     },
     "execution_count": 22,
     "metadata": {},
     "output_type": "execute_result"
    }
   ],
   "source": [
    "s='aksas12'\n",
    "\n",
    "s.isalpha()"
   ]
  },
  {
   "cell_type": "markdown",
   "id": "06437eb7",
   "metadata": {},
   "source": [
    "# Dict"
   ]
  },
  {
   "cell_type": "code",
   "execution_count": 14,
   "id": "c598ff28",
   "metadata": {},
   "outputs": [
    {
     "name": "stdout",
     "output_type": "stream",
     "text": [
      "robin\n",
      "smith\n",
      "aditya\n",
      "jon\n",
      "[1, 2, 3, 4]\n"
     ]
    }
   ],
   "source": [
    "emp={1:'robin',4:'smith',3:'aditya',2:'jon'}\n",
    "\n",
    "# emp.keys()\n",
    "# values=emp.values()\n",
    "# print(values)\n",
    "\n",
    "for keys in emp:\n",
    "    print(emp[keys])\n",
    "    \n",
    "a=list(sorted(emp))\n",
    "print(a)"
   ]
  },
  {
   "cell_type": "markdown",
   "id": "5389a150",
   "metadata": {},
   "source": [
    "# Lambda Function and MAP"
   ]
  },
  {
   "cell_type": "code",
   "execution_count": 14,
   "id": "045bfe26",
   "metadata": {},
   "outputs": [
    {
     "name": "stdout",
     "output_type": "stream",
     "text": [
      "['zebra', 'rahul', 'vishal', 'akshay']\n"
     ]
    }
   ],
   "source": [
    "#sorting without Lambda Function using Function\n",
    "\n",
    "l=['zebra','akshay','rahul','vishal']\n",
    "\n",
    "def fun1(list1):\n",
    "    return list1[-1]\n",
    "\n",
    "sorted_list=sorted(l,key =fun1)\n",
    "print(sorted_list)"
   ]
  },
  {
   "cell_type": "code",
   "execution_count": 46,
   "id": "7c150f71",
   "metadata": {},
   "outputs": [
    {
     "name": "stdout",
     "output_type": "stream",
     "text": [
      "['zebra', 'rahul', 'al', 'vishal', 'akshay']\n"
     ]
    }
   ],
   "source": [
    "#with lamda Function\n",
    "l=['zebra','akshay','rahul','al','vishal']\n",
    "new_sorted=sorted(l,key=(lambda l2:l2[-1]))\n",
    "print(new_sorted)"
   ]
  },
  {
   "cell_type": "code",
   "execution_count": 24,
   "id": "c0ab12a0",
   "metadata": {},
   "outputs": [
    {
     "name": "stdout",
     "output_type": "stream",
     "text": [
      "[70, 60, 50, 30, 10] [10, 30, 50, 60, 70]\n"
     ]
    }
   ],
   "source": [
    "l=[10,50,60,30,70]\n",
    "\n",
    "sorted_list1=sorted(l,key=(lambda l3:-l3))\n",
    "\n",
    "sorted_list2=sorted(l,key=(lambda l3:l3))\n",
    "\n",
    "print(sorted_list1,sorted_list2)"
   ]
  },
  {
   "cell_type": "code",
   "execution_count": 49,
   "id": "e91f3f81",
   "metadata": {},
   "outputs": [
    {
     "name": "stdout",
     "output_type": "stream",
     "text": [
      "<function <lambda> at 0x000002430606BBA0>\n"
     ]
    },
    {
     "ename": "TypeError",
     "evalue": "'int' object is not callable",
     "output_type": "error",
     "traceback": [
      "\u001b[1;31m---------------------------------------------------------------------------\u001b[0m",
      "\u001b[1;31mTypeError\u001b[0m                                 Traceback (most recent call last)",
      "Cell \u001b[1;32mIn[49], line 5\u001b[0m\n\u001b[0;32m      3\u001b[0m emp\u001b[38;5;241m=\u001b[39m{\u001b[38;5;241m1\u001b[39m:\u001b[38;5;124m'\u001b[39m\u001b[38;5;124mrobin\u001b[39m\u001b[38;5;124m'\u001b[39m,\u001b[38;5;241m4\u001b[39m:\u001b[38;5;124m'\u001b[39m\u001b[38;5;124msmith\u001b[39m\u001b[38;5;124m'\u001b[39m,\u001b[38;5;241m3\u001b[39m:\u001b[38;5;124m'\u001b[39m\u001b[38;5;124maditya\u001b[39m\u001b[38;5;124m'\u001b[39m,\u001b[38;5;241m2\u001b[39m:\u001b[38;5;124m'\u001b[39m\u001b[38;5;124maarth\u001b[39m\u001b[38;5;124m'\u001b[39m}\n\u001b[0;32m      4\u001b[0m \u001b[38;5;28mprint\u001b[39m(\u001b[38;5;28;01mlambda\u001b[39;00m d:d)\n\u001b[1;32m----> 5\u001b[0m sorted_dic\u001b[38;5;241m=\u001b[39m\u001b[38;5;28msorted\u001b[39m(emp,key\u001b[38;5;241m=\u001b[39m\u001b[38;5;241m1\u001b[39m)\n\u001b[0;32m      7\u001b[0m sorted_on_values\u001b[38;5;241m=\u001b[39m\u001b[38;5;28msorted\u001b[39m(emp,key\u001b[38;5;241m=\u001b[39m(\u001b[38;5;28;01mlambda\u001b[39;00m x:emp[x]))\n\u001b[0;32m      8\u001b[0m \u001b[38;5;66;03m#for i in sorted_on_values:\u001b[39;00m\n\u001b[0;32m      9\u001b[0m     \u001b[38;5;66;03m#print(emp[i])\u001b[39;00m\n\u001b[0;32m     10\u001b[0m \u001b[38;5;66;03m#sorted_dic1=sorted(emp,key=(lambda d:emp.values()))\u001b[39;00m\n",
      "\u001b[1;31mTypeError\u001b[0m: 'int' object is not callable"
     ]
    }
   ],
   "source": [
    "#sorting a dic\n",
    "\n",
    "emp={1:'robin',4:'smith',3:'aditya',2:'aarth'}\n",
    "print(lambda d:d)\n",
    "sorted_dic=sorted(emp,key=lambda d:d)\n",
    "\n",
    "sorted_on_values=sorted(emp,key=(lambda x:emp[x]))\n",
    "#for i in sorted_on_values:\n",
    "    #print(emp[i])\n",
    "#sorted_dic1=sorted(emp,key=(lambda d:emp.values()))\n",
    "\n",
    "print(sorted_dic)\n",
    "print(sorted_on_values)"
   ]
  },
  {
   "cell_type": "code",
   "execution_count": 29,
   "id": "6b426d40",
   "metadata": {},
   "outputs": [
    {
     "data": {
      "text/plain": [
       "[4, 25, 9, 81]"
      ]
     },
     "execution_count": 29,
     "metadata": {},
     "output_type": "execute_result"
    }
   ],
   "source": [
    "l1=[2,5,3,9]\n",
    "\n",
    "sqrt=map((lambda e:e**2),l1)\n",
    "list(sqrt)"
   ]
  },
  {
   "cell_type": "code",
   "execution_count": 37,
   "id": "ab79873e",
   "metadata": {},
   "outputs": [
    {
     "name": "stdout",
     "output_type": "stream",
     "text": [
      "dict_items([(1, 'robin'), (4, 'smith'), (3, 'aditya'), (2, 'aarth')])\n",
      "[(2, 'aarth'), (3, 'aditya'), (1, 'robin'), (4, 'smith')]\n"
     ]
    }
   ],
   "source": [
    "emp={1:'robin',4:'smith',3:'aditya',2:'aarth'}\n",
    "print(emp.items())\n",
    "\n",
    "sorted_dic=sorted(emp.items(),key=(lambda x:x[1]))\n",
    "\n",
    "#sorted_dic1=sorted(emp.items(),key=(lambda x:emp[0]))\n",
    "\n",
    "print(sorted_dic)\n",
    "#print(sorted_dic1)"
   ]
  },
  {
   "cell_type": "markdown",
   "id": "959a85c1",
   "metadata": {},
   "source": [
    "# OOP Concept"
   ]
  },
  {
   "cell_type": "code",
   "execution_count": 12,
   "id": "66ba8a20",
   "metadata": {},
   "outputs": [],
   "source": [
    "class car:\n",
    "    brand='TATA'\n",
    "    count=0\n",
    "    def __init__(self,color,price,avg,type_fuel):\n",
    "        self.color=color\n",
    "        self.price=price\n",
    "        self.avg=avg\n",
    "        self.type_fuel=type_fuel\n",
    "        car.count+=1\n",
    "        \n",
    "    def display(self):\n",
    "        print(self.color,self.price,self.avg,self.type_fuel)\n",
    "        \n",
    "    def display1(self):\n",
    "        print(car.brand,car.count)\n",
    "        "
   ]
  },
  {
   "cell_type": "code",
   "execution_count": 14,
   "id": "848f4970",
   "metadata": {},
   "outputs": [
    {
     "name": "stdout",
     "output_type": "stream",
     "text": [
      "Enter the colorWhite\n",
      "Enter the price7500000\n",
      "Enter the average15\n",
      "Enter the fuel typePetrol\n",
      "White 7500000 15 Petrol\n",
      "TATA 2\n"
     ]
    }
   ],
   "source": [
    "clr=input('Enter the color')\n",
    "pri=int(input('Enter the price'))\n",
    "av=int(input('Enter the average'))\n",
    "fuel=input('Enter the fuel type')\n",
    "\n",
    "c=car(clr,pri,av,fuel)\n",
    "c.display()\n",
    "c.display1()"
   ]
  },
  {
   "cell_type": "code",
   "execution_count": 1,
   "id": "38710e0c",
   "metadata": {},
   "outputs": [],
   "source": [
    "class Employee:\n",
    "    emp_count=0\n",
    "    def __init__(self,empid,name,deptno,sal,loc,mgr,desig='Employee'):\n",
    "        self.empid=empid\n",
    "        self.name=name\n",
    "        self.deptno=deptno\n",
    "        self.loc=loc\n",
    "        self.mgr=mgr\n",
    "        self.desig=desig\n",
    "        self.sal=sal\n",
    "        Employee.emp_count+=1\n",
    "        \n",
    "    def display_id(self):\n",
    "        print(self.empid,self.name)\n",
    "        \n",
    "    def job_profile(self):\n",
    "        print(self.desig)\n",
    "        \n",
    "    def increment(self):\n",
    "        self.sal+=(0.35*self.sal)\n",
    "        print(self.sal)\n",
    "        \n",
    "        \n",
    "        "
   ]
  },
  {
   "cell_type": "code",
   "execution_count": 2,
   "id": "9bbd15be",
   "metadata": {},
   "outputs": [
    {
     "name": "stdout",
     "output_type": "stream",
     "text": [
      "12 Smith\n",
      "Devop\n"
     ]
    }
   ],
   "source": [
    "emp1=Employee(12)\n",
    "\n",
    "emp1.display_id()\n",
    "emp1.job_profile()"
   ]
  },
  {
   "cell_type": "code",
   "execution_count": null,
   "id": "f49783c8",
   "metadata": {},
   "outputs": [],
   "source": []
  },
  {
   "cell_type": "code",
   "execution_count": 3,
   "id": "bf01bf4e",
   "metadata": {},
   "outputs": [
    {
     "name": "stdout",
     "output_type": "stream",
     "text": [
      "102092.4\n"
     ]
    }
   ],
   "source": [
    "emp1.increment()"
   ]
  },
  {
   "cell_type": "markdown",
   "id": "32bfea1a",
   "metadata": {},
   "source": [
    "# Inheritance"
   ]
  },
  {
   "cell_type": "code",
   "execution_count": 9,
   "id": "2c4bd0dd",
   "metadata": {},
   "outputs": [],
   "source": [
    "class A:\n",
    "    cal=10\n",
    "    def __init__(self):\n",
    "        self.i1=90\n",
    "        self.i2=100\n",
    "    def method1(self):\n",
    "        print(self.i1,self.i2)\n",
    "        \n",
    "class B(A):\n",
    "    def __init__(self):\n",
    "        A.__init__(self)\n",
    "        self.i3='AKSHAY'\n",
    "        \n",
    "    def display(self):\n",
    "        print(self.i1,self.i2)\n",
    "    def name(self):\n",
    "        print(self.i3)\n",
    "        \n",
    "    "
   ]
  },
  {
   "cell_type": "code",
   "execution_count": 11,
   "id": "ca3ccb38",
   "metadata": {},
   "outputs": [
    {
     "name": "stdout",
     "output_type": "stream",
     "text": [
      "90 100\n",
      "AKSHAY\n"
     ]
    }
   ],
   "source": [
    "b=B()\n",
    "b.display()\n",
    "b.name()"
   ]
  },
  {
   "cell_type": "code",
   "execution_count": 12,
   "id": "4b1b6d62",
   "metadata": {},
   "outputs": [
    {
     "name": "stdout",
     "output_type": "stream",
     "text": [
      "90 100\n"
     ]
    }
   ],
   "source": [
    "b.method1()"
   ]
  },
  {
   "cell_type": "code",
   "execution_count": 17,
   "id": "5e0e2790",
   "metadata": {},
   "outputs": [],
   "source": [
    "class emp():\n",
    "    def __init__(self):\n",
    "        self.empid=input('Enter the id')\n",
    "        self.name=input('Enter the name')\n",
    "        self.sal=int(input('Enter the salary'))\n",
    "        \n",
    "    def display(self):\n",
    "        print(self.empid,self.name,self.sal)\n",
    "        \n",
    "        \n",
    "class manager(emp):\n",
    "    def __init__(self,projectids):\n",
    "        emp.__init__(self)\n",
    "        self.projectids=projectids\n",
    "        self.budget=100000\n",
    "        \n",
    "    def display1(self):\n",
    "        emp.display(self)\n",
    "        \n",
    "    def project1(self):\n",
    "        print(self.empid,self.name,self.sal,self.budget,self.projectids)\n",
    "        \n",
    "                "
   ]
  },
  {
   "cell_type": "code",
   "execution_count": 18,
   "id": "73d470d5",
   "metadata": {},
   "outputs": [
    {
     "name": "stdout",
     "output_type": "stream",
     "text": [
      "Enter the id12\n",
      "Enter the nameSmith\n",
      "Enter the salary125000\n",
      "12 Smith 125000\n"
     ]
    }
   ],
   "source": [
    "m=manager([1,2,3])\n",
    "m.display1()"
   ]
  },
  {
   "cell_type": "code",
   "execution_count": 19,
   "id": "7429fe2f",
   "metadata": {},
   "outputs": [
    {
     "name": "stdout",
     "output_type": "stream",
     "text": [
      "12 Smith 125000 100000 [1, 2, 3]\n"
     ]
    }
   ],
   "source": [
    "m.project1()"
   ]
  },
  {
   "cell_type": "code",
   "execution_count": 2,
   "id": "fd0c04c2",
   "metadata": {},
   "outputs": [],
   "source": [
    "class demo:\n",
    "    def __init__(self):\n",
    "        self.a1=\"first\"\n",
    "        self.a2=\"second\""
   ]
  },
  {
   "cell_type": "code",
   "execution_count": 3,
   "id": "285736b8",
   "metadata": {},
   "outputs": [
    {
     "name": "stdout",
     "output_type": "stream",
     "text": [
      "first second\n"
     ]
    }
   ],
   "source": [
    "d1=demo()\n",
    "print(d1.a1,d1.a2)"
   ]
  },
  {
   "cell_type": "code",
   "execution_count": 4,
   "id": "ad33c28e",
   "metadata": {},
   "outputs": [],
   "source": [
    "del d1.a1"
   ]
  },
  {
   "cell_type": "code",
   "execution_count": 5,
   "id": "0bdb2c4a",
   "metadata": {},
   "outputs": [
    {
     "data": {
      "text/plain": [
       "'second'"
      ]
     },
     "execution_count": 5,
     "metadata": {},
     "output_type": "execute_result"
    }
   ],
   "source": [
    "d1.a2"
   ]
  },
  {
   "cell_type": "code",
   "execution_count": 6,
   "id": "2acef040",
   "metadata": {},
   "outputs": [
    {
     "ename": "AttributeError",
     "evalue": "'demo' object has no attribute 'a1'",
     "output_type": "error",
     "traceback": [
      "\u001b[1;31m---------------------------------------------------------------------------\u001b[0m",
      "\u001b[1;31mAttributeError\u001b[0m                            Traceback (most recent call last)",
      "Cell \u001b[1;32mIn[6], line 1\u001b[0m\n\u001b[1;32m----> 1\u001b[0m d1\u001b[38;5;241m.\u001b[39ma1\n",
      "\u001b[1;31mAttributeError\u001b[0m: 'demo' object has no attribute 'a1'"
     ]
    }
   ],
   "source": [
    "d1.a1"
   ]
  },
  {
   "cell_type": "code",
   "execution_count": null,
   "id": "274db415",
   "metadata": {},
   "outputs": [],
   "source": []
  }
 ],
 "metadata": {
  "kernelspec": {
   "display_name": "Python 3 (ipykernel)",
   "language": "python",
   "name": "python3"
  },
  "language_info": {
   "codemirror_mode": {
    "name": "ipython",
    "version": 3
   },
   "file_extension": ".py",
   "mimetype": "text/x-python",
   "name": "python",
   "nbconvert_exporter": "python",
   "pygments_lexer": "ipython3",
   "version": "3.11.4"
  }
 },
 "nbformat": 4,
 "nbformat_minor": 5
}
