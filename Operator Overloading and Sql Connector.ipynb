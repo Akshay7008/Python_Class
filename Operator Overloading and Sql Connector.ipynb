{
 "cells": [
  {
   "cell_type": "code",
   "execution_count": 2,
   "id": "766df0f2",
   "metadata": {},
   "outputs": [],
   "source": [
    "class student:\n",
    "    def __init__(self,m1,m2):\n",
    "        self.m1=m1\n",
    "        self.m2=m2\n",
    "        \n",
    "    def __add__(self,other):\n",
    "        t1=self.m1+other.m1\n",
    "        t2=self.m2+other.m2\n",
    "        s3=student(t1,t2)\n",
    "        return s3\n",
    "    \n",
    "    def __gt__(self,other):\n",
    "        d1=self.m1+other.m1\n",
    "        d2=self.m2+other.m2\n",
    "        \n",
    "        if d1 > d2:\n",
    "            return True\n",
    "        else:\n",
    "            return False "
   ]
  },
  {
   "cell_type": "code",
   "execution_count": 3,
   "id": "67e76e97",
   "metadata": {},
   "outputs": [
    {
     "name": "stdout",
     "output_type": "stream",
     "text": [
      "70\n",
      "35\n",
      "S1 wins\n"
     ]
    }
   ],
   "source": [
    "s1=student(50,5)\n",
    "s2=student(20,30)\n",
    "\n",
    "s3=s1+s2\n",
    "print(s3.m1)\n",
    "print(s3.m2)\n",
    "\n",
    "if s1>s2:\n",
    "    print(\"S1 wins\")\n",
    "else:\n",
    "    print(\"S2 wins\")\n"
   ]
  },
  {
   "cell_type": "code",
   "execution_count": null,
   "id": "da76d326",
   "metadata": {},
   "outputs": [],
   "source": []
  },
  {
   "cell_type": "code",
   "execution_count": null,
   "id": "694b21d0",
   "metadata": {},
   "outputs": [],
   "source": []
  },
  {
   "cell_type": "code",
   "execution_count": 3,
   "id": "f304b9e9",
   "metadata": {},
   "outputs": [],
   "source": [
    "import mysql.connector as n1"
   ]
  },
  {
   "cell_type": "code",
   "execution_count": 4,
   "id": "7120c2a3",
   "metadata": {},
   "outputs": [],
   "source": [
    "cnx=n1.connect(user='root',\n",
    "            password='root123',\n",
    "            host='127.0.0.1',\n",
    "                           )\n",
    "\n",
    "cur=cnx.cursor()"
   ]
  },
  {
   "cell_type": "code",
   "execution_count": 5,
   "id": "36f41916",
   "metadata": {},
   "outputs": [],
   "source": [
    "cur.execute(\"create database akki;\")"
   ]
  },
  {
   "cell_type": "code",
   "execution_count": 7,
   "id": "2dade534",
   "metadata": {},
   "outputs": [],
   "source": [
    "cur.execute(\"use akki;\")"
   ]
  },
  {
   "cell_type": "code",
   "execution_count": 8,
   "id": "f71840f2",
   "metadata": {},
   "outputs": [
    {
     "data": {
      "text/plain": [
       "<bound method MySQLConnection.close of <mysql.connector.connection.MySQLConnection object at 0x00000224DEFFDCD0>>"
      ]
     },
     "execution_count": 8,
     "metadata": {},
     "output_type": "execute_result"
    }
   ],
   "source": [
    "cur.execute(\"\"\"CREATE TABLE student(\n",
    "            roll_no INT,\n",
    "            name varchar(10),\n",
    "            marks INT);\"\"\")\n",
    "cnx.commit()\n",
    "cnx.close"
   ]
  },
  {
   "cell_type": "code",
   "execution_count": null,
   "id": "2d45f13f",
   "metadata": {},
   "outputs": [],
   "source": [
    "records=[[1,'JON',42],\n",
    "        [2,'SMITH',53]\n",
    "        ]\n"
   ]
  },
  {
   "cell_type": "code",
   "execution_count": null,
   "id": "277b2a29",
   "metadata": {},
   "outputs": [],
   "source": [
    "cnx=mysql.connector.connect(user='root',\n",
    "                           password='root123',\n",
    "                           host='127.0.0.1',\n",
    "                           database='akshay')\n",
    "\n",
    "cur=cnx.cursor()"
   ]
  },
  {
   "cell_type": "code",
   "execution_count": 5,
   "id": "1c59cb01",
   "metadata": {},
   "outputs": [
    {
     "name": "stdout",
     "output_type": "stream",
     "text": [
      "['P', '_', 'N', '@', '_', '@']\n"
     ]
    }
   ],
   "source": [
    "string='PUNEEE'\n",
    "x=list(string)\n",
    "count=0\n",
    "\n",
    "for i,e in enumerate(x):\n",
    "        if e=='A' or e=='E' or e=='I' or e=='O' or e=='U':\n",
    "            count+=1\n",
    "            \n",
    "            if count%2==0:\n",
    "                x[i]='@'\n",
    "            else:\n",
    "                x[i]='_'\n",
    "\n",
    "print(x)"
   ]
  },
  {
   "cell_type": "code",
   "execution_count": 6,
   "id": "cc9c88a5",
   "metadata": {},
   "outputs": [],
   "source": [
    "def check_1(list):\n",
    "    import math\n",
    "    add=0\n",
    "    avg=0\n",
    "    count=0\n",
    "    for e in list:\n",
    "        for num in e:\n",
    "            if num%11==0:\n",
    "                count+=1\n",
    "                add+=num\n",
    "                \n",
    "            \n",
    "    if (math.sqrt(count)).is_integer():\n",
    "        print(add)\n",
    "    else:\n",
    "        avg=add/count\n",
    "        print(avg)"
   ]
  },
  {
   "cell_type": "code",
   "execution_count": 13,
   "id": "ad91b961",
   "metadata": {},
   "outputs": [],
   "source": [
    "n1='omkar'"
   ]
  },
  {
   "cell_type": "code",
   "execution_count": 14,
   "id": "a3378d12",
   "metadata": {},
   "outputs": [
    {
     "data": {
      "text/plain": [
       "'Omkar'"
      ]
     },
     "execution_count": 14,
     "metadata": {},
     "output_type": "execute_result"
    }
   ],
   "source": [
    "n1.capitalize()"
   ]
  },
  {
   "cell_type": "code",
   "execution_count": 15,
   "id": "705d7847",
   "metadata": {},
   "outputs": [],
   "source": [
    "n='omkar mohan nalawade'"
   ]
  },
  {
   "cell_type": "code",
   "execution_count": 16,
   "id": "e284b84b",
   "metadata": {},
   "outputs": [
    {
     "data": {
      "text/plain": [
       "'Omkar Mohan Nalawade'"
      ]
     },
     "execution_count": 16,
     "metadata": {},
     "output_type": "execute_result"
    }
   ],
   "source": [
    "n.title()"
   ]
  },
  {
   "cell_type": "code",
   "execution_count": 17,
   "id": "f3a82c53",
   "metadata": {},
   "outputs": [
    {
     "data": {
      "text/plain": [
       "True"
      ]
     },
     "execution_count": 17,
     "metadata": {},
     "output_type": "execute_result"
    }
   ],
   "source": [
    "n1.isalpha()"
   ]
  },
  {
   "cell_type": "code",
   "execution_count": 18,
   "id": "7f07a973",
   "metadata": {},
   "outputs": [
    {
     "data": {
      "text/plain": [
       "False"
      ]
     },
     "execution_count": 18,
     "metadata": {},
     "output_type": "execute_result"
    }
   ],
   "source": [
    "n1.isspace()"
   ]
  },
  {
   "cell_type": "code",
   "execution_count": 19,
   "id": "fc730913",
   "metadata": {},
   "outputs": [
    {
     "data": {
      "text/plain": [
       "True"
      ]
     },
     "execution_count": 19,
     "metadata": {},
     "output_type": "execute_result"
    }
   ],
   "source": [
    "n1.isalnum()"
   ]
  },
  {
   "cell_type": "code",
   "execution_count": 20,
   "id": "f6184d21",
   "metadata": {},
   "outputs": [
    {
     "ename": "TypeError",
     "evalue": "int() argument must be a string, a bytes-like object or a real number, not 'list'",
     "output_type": "error",
     "traceback": [
      "\u001b[1;31m---------------------------------------------------------------------------\u001b[0m",
      "\u001b[1;31mTypeError\u001b[0m                                 Traceback (most recent call last)",
      "Cell \u001b[1;32mIn[20], line 3\u001b[0m\n\u001b[0;32m      1\u001b[0m l\u001b[38;5;241m=\u001b[39m[\u001b[38;5;124m'\u001b[39m\u001b[38;5;124m45\u001b[39m\u001b[38;5;124m'\u001b[39m,\u001b[38;5;124m'\u001b[39m\u001b[38;5;124m85\u001b[39m\u001b[38;5;124m'\u001b[39m]\n\u001b[1;32m----> 3\u001b[0m l1\u001b[38;5;241m=\u001b[39m\u001b[38;5;28mint\u001b[39m(l)\n\u001b[0;32m      4\u001b[0m l1\n",
      "\u001b[1;31mTypeError\u001b[0m: int() argument must be a string, a bytes-like object or a real number, not 'list'"
     ]
    }
   ],
   "source": [
    "l=['45','85']\n",
    "\n"
   ]
  },
  {
   "cell_type": "code",
   "execution_count": null,
   "id": "ecf2dd0a",
   "metadata": {},
   "outputs": [],
   "source": []
  }
 ],
 "metadata": {
  "kernelspec": {
   "display_name": "Python 3 (ipykernel)",
   "language": "python",
   "name": "python3"
  },
  "language_info": {
   "codemirror_mode": {
    "name": "ipython",
    "version": 3
   },
   "file_extension": ".py",
   "mimetype": "text/x-python",
   "name": "python",
   "nbconvert_exporter": "python",
   "pygments_lexer": "ipython3",
   "version": "3.11.4"
  }
 },
 "nbformat": 4,
 "nbformat_minor": 5
}
