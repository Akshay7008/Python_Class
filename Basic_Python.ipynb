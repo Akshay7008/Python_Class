{
 "cells": [
  {
   "cell_type": "markdown",
   "id": "04596bf0",
   "metadata": {},
   "source": [
    "# Formating"
   ]
  },
  {
   "cell_type": "code",
   "execution_count": 28,
   "id": "0c2fcfb4",
   "metadata": {},
   "outputs": [
    {
     "name": "stdout",
     "output_type": "stream",
     "text": [
      "  AKSHAY  \n",
      "  AKSHAY  \n",
      "    AKSHAY\n",
      "AKSHAY    \n",
      "hello this is way of formating   AKSHAY  ,    AKSHAY,AKSHAY    \n"
     ]
    }
   ],
   "source": [
    "a=f'{\"AKSHAY\":^10}'\n",
    "print(a)\n",
    "\n",
    "#or\n",
    "\n",
    "a1=format('AKSHAY','^10')\n",
    "print(a1)\n",
    "\n",
    "a2=format('AKSHAY','>10')\n",
    "print(a2)\n",
    "\n",
    "a3=format('AKSHAY','<10')\n",
    "print(a3)\n",
    "\n",
    "print('hello this is way of formating {},{},{}'.format(a1,a2,a3))\n"
   ]
  },
  {
   "cell_type": "code",
   "execution_count": 5,
   "id": "db259da7",
   "metadata": {},
   "outputs": [
    {
     "name": "stdout",
     "output_type": "stream",
     "text": [
      "#####hello#####\n"
     ]
    }
   ],
   "source": [
    "print(f'{\"hello\" :#^15}')"
   ]
  },
  {
   "cell_type": "markdown",
   "id": "19a7729c",
   "metadata": {},
   "source": [
    "# END and SEP"
   ]
  },
  {
   "cell_type": "code",
   "execution_count": 24,
   "id": "bddd54f9",
   "metadata": {},
   "outputs": [
    {
     "name": "stdout",
     "output_type": "stream",
     "text": [
      "hi#10\n"
     ]
    }
   ],
   "source": [
    "rno=10\n",
    "print('hi',rno,sep='#') #---------------->just acts as a separator between two string or number"
   ]
  },
  {
   "cell_type": "code",
   "execution_count": 22,
   "id": "21a93c7b",
   "metadata": {},
   "outputs": [
    {
     "name": "stdout",
     "output_type": "stream",
     "text": [
      "akshay:"
     ]
    }
   ],
   "source": [
    "print('akshay',end=':')\n",
    "#print('Suryawanshi')-------------->Just print it at end of string"
   ]
  },
  {
   "cell_type": "markdown",
   "id": "d2cb70ab",
   "metadata": {},
   "source": [
    "# Type "
   ]
  },
  {
   "cell_type": "code",
   "execution_count": 31,
   "id": "b8d6308c",
   "metadata": {},
   "outputs": [
    {
     "data": {
      "text/plain": [
       "int"
      ]
     },
     "execution_count": 31,
     "metadata": {},
     "output_type": "execute_result"
    }
   ],
   "source": [
    "type(2)"
   ]
  },
  {
   "cell_type": "code",
   "execution_count": 32,
   "id": "51899bb3",
   "metadata": {},
   "outputs": [
    {
     "data": {
      "text/plain": [
       "float"
      ]
     },
     "execution_count": 32,
     "metadata": {},
     "output_type": "execute_result"
    }
   ],
   "source": [
    "type(2.01)"
   ]
  },
  {
   "cell_type": "code",
   "execution_count": 33,
   "id": "e774ed9c",
   "metadata": {},
   "outputs": [
    {
     "data": {
      "text/plain": [
       "str"
      ]
     },
     "execution_count": 33,
     "metadata": {},
     "output_type": "execute_result"
    }
   ],
   "source": [
    "type('akshay')"
   ]
  },
  {
   "cell_type": "code",
   "execution_count": 63,
   "id": "d1d60ab9",
   "metadata": {},
   "outputs": [
    {
     "name": "stdout",
     "output_type": "stream",
     "text": [
      "fk\n"
     ]
    }
   ],
   "source": [
    "if type(2.0)==int:\n",
    "    print('1')\n",
    "else:\n",
    "    print('fk')"
   ]
  },
  {
   "cell_type": "markdown",
   "id": "ac1793fa",
   "metadata": {},
   "source": [
    "# isinstance"
   ]
  },
  {
   "cell_type": "code",
   "execution_count": 34,
   "id": "72f2a731",
   "metadata": {},
   "outputs": [
    {
     "data": {
      "text/plain": [
       "True"
      ]
     },
     "execution_count": 34,
     "metadata": {},
     "output_type": "execute_result"
    }
   ],
   "source": [
    "isinstance(10,int)"
   ]
  },
  {
   "cell_type": "code",
   "execution_count": 57,
   "id": "05687650",
   "metadata": {},
   "outputs": [
    {
     "name": "stdout",
     "output_type": "stream",
     "text": [
      "Enter the number9\n",
      "3.0\n"
     ]
    },
    {
     "data": {
      "text/plain": [
       "False"
      ]
     },
     "execution_count": 57,
     "metadata": {},
     "output_type": "execute_result"
    }
   ],
   "source": [
    "import math\n",
    "\n",
    "a=int(input(\"Enter the number\"))\n",
    "\n",
    "b=print(math.sqrt(a))\n",
    "\n",
    "isinstance(b,int)"
   ]
  },
  {
   "cell_type": "markdown",
   "id": "cae87139",
   "metadata": {},
   "source": [
    "# Get size of"
   ]
  },
  {
   "cell_type": "code",
   "execution_count": 49,
   "id": "fcd2c26c",
   "metadata": {},
   "outputs": [
    {
     "name": "stdout",
     "output_type": "stream",
     "text": [
      "28\n"
     ]
    }
   ],
   "source": [
    "import sys\n",
    "x=20\n",
    "print(sys.getsizeof(x))"
   ]
  },
  {
   "cell_type": "markdown",
   "id": "3c8ad61c",
   "metadata": {},
   "source": [
    "# Binary number and length of binary number"
   ]
  },
  {
   "cell_type": "code",
   "execution_count": 61,
   "id": "43f7b319",
   "metadata": {},
   "outputs": [
    {
     "name": "stdout",
     "output_type": "stream",
     "text": [
      "4\n",
      "0b1010\n",
      "0o12\n",
      "0xa\n"
     ]
    }
   ],
   "source": [
    "print(int.bit_length(10))\n",
    "\n",
    "\n",
    "print(bin(10))\n",
    "print(oct(10))\n",
    "print(hex(10))\n",
    "\n",
    "#bin(20)---------->convert 20 into binary number"
   ]
  },
  {
   "cell_type": "markdown",
   "id": "15472c9f",
   "metadata": {},
   "source": [
    "# as_integer_ratio"
   ]
  },
  {
   "cell_type": "code",
   "execution_count": 62,
   "id": "9188c86d",
   "metadata": {},
   "outputs": [
    {
     "data": {
      "text/plain": [
       "(1, 4)"
      ]
     },
     "execution_count": 62,
     "metadata": {},
     "output_type": "execute_result"
    }
   ],
   "source": [
    "(0.25).as_integer_ratio() #---------------->gives numerator and denomintor"
   ]
  },
  {
   "cell_type": "code",
   "execution_count": null,
   "id": "c5f40071",
   "metadata": {},
   "outputs": [],
   "source": []
  }
 ],
 "metadata": {
  "kernelspec": {
   "display_name": "Python 3 (ipykernel)",
   "language": "python",
   "name": "python3"
  },
  "language_info": {
   "codemirror_mode": {
    "name": "ipython",
    "version": 3
   },
   "file_extension": ".py",
   "mimetype": "text/x-python",
   "name": "python",
   "nbconvert_exporter": "python",
   "pygments_lexer": "ipython3",
   "version": "3.11.4"
  }
 },
 "nbformat": 4,
 "nbformat_minor": 5
}
