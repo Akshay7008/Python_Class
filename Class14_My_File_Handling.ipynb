{
 "cells": [
  {
   "cell_type": "markdown",
   "id": "e1951d62",
   "metadata": {},
   "source": [
    "# Reading the file"
   ]
  },
  {
   "cell_type": "code",
   "execution_count": null,
   "id": "a5f4ad7f",
   "metadata": {},
   "outputs": [],
   "source": [
    "f=open('sample.txt')"
   ]
  },
  {
   "cell_type": "code",
   "execution_count": 9,
   "id": "a4e65e67",
   "metadata": {},
   "outputs": [],
   "source": [
    "content=f.read()"
   ]
  },
  {
   "cell_type": "code",
   "execution_count": 10,
   "id": "dbc680e6",
   "metadata": {},
   "outputs": [
    {
     "name": "stdout",
     "output_type": "stream",
     "text": [
      "this is sample file\n",
      "\n",
      "welcome to iascd\n",
      "#happy learning\n"
     ]
    }
   ],
   "source": [
    "print(content)"
   ]
  },
  {
   "cell_type": "code",
   "execution_count": 11,
   "id": "f1b98bad",
   "metadata": {},
   "outputs": [
    {
     "data": {
      "text/plain": [
       "['this',\n",
       " 'is',\n",
       " 'sample',\n",
       " 'file',\n",
       " 'welcome',\n",
       " 'to',\n",
       " 'iascd',\n",
       " '#happy',\n",
       " 'learning']"
      ]
     },
     "execution_count": 11,
     "metadata": {},
     "output_type": "execute_result"
    }
   ],
   "source": [
    "content.split()"
   ]
  },
  {
   "cell_type": "code",
   "execution_count": 12,
   "id": "628da821",
   "metadata": {},
   "outputs": [],
   "source": [
    "f.close()"
   ]
  },
  {
   "cell_type": "code",
   "execution_count": 19,
   "id": "ad319035",
   "metadata": {},
   "outputs": [],
   "source": [
    "lines=f.readlines()"
   ]
  },
  {
   "cell_type": "code",
   "execution_count": 20,
   "id": "d11a6f87",
   "metadata": {},
   "outputs": [
    {
     "data": {
      "text/plain": [
       "['this is sample file\\n', '\\n', 'welcome to iascd\\n', '#happy learning']"
      ]
     },
     "execution_count": 20,
     "metadata": {},
     "output_type": "execute_result"
    }
   ],
   "source": [
    "lines"
   ]
  },
  {
   "cell_type": "code",
   "execution_count": 21,
   "id": "919c88c3",
   "metadata": {},
   "outputs": [
    {
     "data": {
      "text/plain": [
       "''"
      ]
     },
     "execution_count": 21,
     "metadata": {},
     "output_type": "execute_result"
    }
   ],
   "source": [
    "f.read() ------------->#file is open and not close and try to read it again so we have to close the file by f.close()"
   ]
  },
  {
   "cell_type": "code",
   "execution_count": 23,
   "id": "8a4ff97b",
   "metadata": {},
   "outputs": [],
   "source": [
    "f.close()"
   ]
  },
  {
   "cell_type": "markdown",
   "id": "cd680ece",
   "metadata": {},
   "source": [
    "# With Construct"
   ]
  },
  {
   "cell_type": "code",
   "execution_count": 24,
   "id": "37e9133e",
   "metadata": {},
   "outputs": [
    {
     "name": "stdout",
     "output_type": "stream",
     "text": [
      "this is sample file\n",
      "\n",
      "welcome to iascd\n",
      "#happy learning\n"
     ]
    }
   ],
   "source": [
    "with open('sample.txt') as f:\n",
    "    content=f.read()\n",
    "    \n",
    "print(content)"
   ]
  },
  {
   "cell_type": "code",
   "execution_count": 31,
   "id": "861541c9",
   "metadata": {},
   "outputs": [
    {
     "name": "stdout",
     "output_type": "stream",
     "text": [
      "this is sample file\n",
      "\n",
      "welcome to iascd\n",
      "#happy learning"
     ]
    }
   ],
   "source": [
    "with open('sample.txt') as f:\n",
    "    for line in f:\n",
    "        print(line, end='')"
   ]
  },
  {
   "cell_type": "markdown",
   "id": "8183157d",
   "metadata": {},
   "source": [
    "# writing into the file"
   ]
  },
  {
   "cell_type": "code",
   "execution_count": 28,
   "id": "e87179fd",
   "metadata": {},
   "outputs": [],
   "source": [
    "f=open(\"temp.txt\",\"w\")\n",
    "message=\"This is message in file. \\n Be Alert....!!!!!\"\n",
    "f.write(message)\n",
    "f.close()"
   ]
  },
  {
   "cell_type": "code",
   "execution_count": 29,
   "id": "ad236324",
   "metadata": {},
   "outputs": [],
   "source": [
    "#with construct\n",
    "\n",
    "message='New message is that the existing contents are there or not'\n",
    "with open(\"temp.txt\",\"w\") as f:\n",
    "    f.write(message)\n",
    "    \n",
    "    \n",
    "    "
   ]
  },
  {
   "cell_type": "markdown",
   "id": "bdaae72c",
   "metadata": {},
   "source": [
    "# DataBase Connnectivity"
   ]
  },
  {
   "cell_type": "code",
   "execution_count": 1,
   "id": "76fa3c74",
   "metadata": {},
   "outputs": [],
   "source": [
    "import mysql.connector\n",
    "\n",
    "cnx = mysql.connector.connect(user='root', \n",
    "                              password='root123',\n",
    "                              host='127.0.0.1',\n",
    "                              database='mytrail')\n",
    "cnx.close()"
   ]
  },
  {
   "cell_type": "code",
   "execution_count": null,
   "id": "4892fd7e",
   "metadata": {},
   "outputs": [],
   "source": []
  }
 ],
 "metadata": {
  "kernelspec": {
   "display_name": "Python 3 (ipykernel)",
   "language": "python",
   "name": "python3"
  },
  "language_info": {
   "codemirror_mode": {
    "name": "ipython",
    "version": 3
   },
   "file_extension": ".py",
   "mimetype": "text/x-python",
   "name": "python",
   "nbconvert_exporter": "python",
   "pygments_lexer": "ipython3",
   "version": "3.11.4"
  }
 },
 "nbformat": 4,
 "nbformat_minor": 5
}
