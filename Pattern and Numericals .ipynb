{
 "cells": [
  {
   "cell_type": "code",
   "execution_count": 5,
   "id": "5dc58a99",
   "metadata": {},
   "outputs": [
    {
     "name": "stdout",
     "output_type": "stream",
     "text": [
      "54\n"
     ]
    }
   ],
   "source": [
    "print(20054%500)"
   ]
  },
  {
   "cell_type": "markdown",
   "id": "f4e288d8",
   "metadata": {},
   "source": [
    "# Number of notes"
   ]
  },
  {
   "cell_type": "code",
   "execution_count": 9,
   "id": "a279d921",
   "metadata": {},
   "outputs": [
    {
     "name": "stdout",
     "output_type": "stream",
     "text": [
      "enter the amount4511\n",
      "Number of 2000 notes 2\n",
      "Number of 500 notes 1\n",
      "Number of 10 notes 1\n",
      "Number of 1 notes 1\n"
     ]
    }
   ],
   "source": [
    "ruppes=int(input('enter the amount'))\n",
    "\n",
    "no_2000=ruppes//2000\n",
    "print('Number of 2000 notes',no_2000)\n",
    "if no_2000>0:\n",
    "    rem_ruppes=ruppes%2000\n",
    "    \n",
    "no_500=rem_ruppes//500\n",
    "print('Number of 500 notes',no_500)\n",
    "if no_500>0:\n",
    "    rem_ruppes=ruppes%500\n",
    "    \n",
    "no_10=rem_ruppes//10\n",
    "print('Number of 10 notes',no_10)\n",
    "if no_500>0:\n",
    "    rem_ruppes=ruppes%10\n",
    "    \n",
    "no_1=rem_ruppes//1\n",
    "print('Number of 1 notes',no_1)\n",
    "if no_500>0:\n",
    "    rem_ruppes=ruppes%1\n"
   ]
  },
  {
   "cell_type": "markdown",
   "id": "4f8cab03",
   "metadata": {},
   "source": [
    "# Number of Units"
   ]
  },
  {
   "cell_type": "code",
   "execution_count": 14,
   "id": "70d9b203",
   "metadata": {},
   "outputs": [
    {
     "name": "stdout",
     "output_type": "stream",
     "text": [
      "Enter teh units100\n",
      "NO charge\n"
     ]
    }
   ],
   "source": [
    "Units=int(input('Enter teh units'))\n",
    "\n",
    "if Units<=100:\n",
    "    print('NO charge')\n",
    "if Units>100 and Units<200:\n",
    "    charge=(Units-100)*5\n",
    "    print(charge)\n",
    "if Units>200:\n",
    "    charge=(Units-200)*10+(100*5)\n",
    "    print(charge)\n"
   ]
  },
  {
   "cell_type": "code",
   "execution_count": 59,
   "id": "ceedfb8c",
   "metadata": {},
   "outputs": [
    {
     "name": "stdout",
     "output_type": "stream",
     "text": [
      "Enter the number5\n",
      "\n",
      "\n",
      "\n",
      "\n",
      "\n"
     ]
    }
   ],
   "source": [
    "num=int(input('Enter the number'))\n",
    "x=''\n",
    "for i in range(num):\n",
    "    print(x*i)\n",
    "    x+str(i)\n"
   ]
  },
  {
   "cell_type": "code",
   "execution_count": 52,
   "id": "51a68104",
   "metadata": {},
   "outputs": [
    {
     "name": "stdout",
     "output_type": "stream",
     "text": [
      "Enter the number5\n",
      "0\n",
      "1\n",
      "2\n",
      "3\n",
      "4\n"
     ]
    }
   ],
   "source": [
    "num=int(input('Enter the number'))\n",
    "\n",
    "for i in range(num):\n",
    "    print()"
   ]
  },
  {
   "cell_type": "code",
   "execution_count": 79,
   "id": "ea27f83d",
   "metadata": {},
   "outputs": [
    {
     "name": "stdout",
     "output_type": "stream",
     "text": [
      "1\n",
      "12\n",
      "123\n",
      "1234\n",
      "12345\n"
     ]
    }
   ],
   "source": [
    "n=5\n",
    "a=''\n",
    "\n",
    "for i in range(1,n+1):\n",
    "    a=a+str(i)\n",
    "    print(a)"
   ]
  },
  {
   "cell_type": "code",
   "execution_count": 80,
   "id": "242d206d",
   "metadata": {},
   "outputs": [
    {
     "name": "stdout",
     "output_type": "stream",
     "text": [
      "    \n",
      "   *\n",
      "  **\n",
      " ***\n",
      "****\n"
     ]
    }
   ],
   "source": [
    "num=4\n",
    "sp=n-1\n",
    "for i in range(num+1):\n",
    "    print(' '*sp,'*'*i,sep='')\n",
    "    sp=sp-1"
   ]
  },
  {
   "cell_type": "code",
   "execution_count": 40,
   "id": "640d00e7",
   "metadata": {},
   "outputs": [
    {
     "name": "stdout",
     "output_type": "stream",
     "text": [
      "    \n",
      "*   \n",
      "**  \n",
      "*** \n",
      "****\n",
      "***\n",
      "* \n"
     ]
    }
   ],
   "source": [
    "num=4\n",
    "sp=n-1\n",
    "for i in range(num+1):\n",
    "    print('*'*i,' '*sp,sep='')\n",
    "    sp=sp-1\n",
    "sp1=0\n",
    "for j in range(num//2+1,0,-2):\n",
    "    print('*'*j,' '*sp1,sep='')\n",
    "    sp1=sp1+1\n"
   ]
  },
  {
   "cell_type": "code",
   "execution_count": 39,
   "id": "da088073",
   "metadata": {},
   "outputs": [
    {
     "name": "stdout",
     "output_type": "stream",
     "text": [
      "3\n"
     ]
    }
   ],
   "source": [
    "a=4//2+1\n",
    "print(a)"
   ]
  },
  {
   "cell_type": "code",
   "execution_count": 23,
   "id": "331a60d1",
   "metadata": {},
   "outputs": [
    {
     "name": "stdout",
     "output_type": "stream",
     "text": [
      "  *\n",
      " ***\n",
      "*****\n"
     ]
    }
   ],
   "source": [
    "n=5\n",
    "sp=n//2\n",
    "for i in range(1,n+1,2):\n",
    "    print(' '*sp,'*'*i,sep='')\n",
    "    sp=sp-1\n"
   ]
  },
  {
   "cell_type": "code",
   "execution_count": 30,
   "id": "9f3b8465",
   "metadata": {},
   "outputs": [
    {
     "name": "stdout",
     "output_type": "stream",
     "text": [
      "  *\n",
      " ***\n",
      "*****\n",
      " ***\n",
      "  *\n"
     ]
    }
   ],
   "source": [
    "n=5\n",
    "sp=n//2\n",
    "sp1=0\n",
    "for i in range(1,n+1,2):\n",
    "    print(' '*sp,'*'*i,sep='')\n",
    "    sp=sp-1\n",
    "for j in range(n//2+1,0,-2):\n",
    "    print(' '*sp1,'*'*j,sep=' ')\n",
    "    sp1=sp1+1\n"
   ]
  },
  {
   "cell_type": "code",
   "execution_count": 43,
   "id": "33814c26",
   "metadata": {},
   "outputs": [
    {
     "name": "stdout",
     "output_type": "stream",
     "text": [
      "***\n",
      " *\n"
     ]
    }
   ],
   "source": [
    "n=5\n",
    "sp1=0\n",
    "for j in range(n//2+1,0,-2):\n",
    "    print(' '*sp1,'*'*j,sep='')\n",
    "    sp1=sp1+1"
   ]
  },
  {
   "cell_type": "code",
   "execution_count": 67,
   "id": "e79e8609",
   "metadata": {},
   "outputs": [
    {
     "data": {
      "text/plain": [
       "[80, 30, 10]"
      ]
     },
     "execution_count": 67,
     "metadata": {},
     "output_type": "execute_result"
    }
   ],
   "source": [
    "l=[10,20,30,50,80]\n",
    "l[2:4]\n",
    "l[::-2]"
   ]
  },
  {
   "cell_type": "code",
   "execution_count": 70,
   "id": "7a6496aa",
   "metadata": {},
   "outputs": [
    {
     "name": "stdout",
     "output_type": "stream",
     "text": [
      "[50, 65, 23, 82, 100]\n"
     ]
    }
   ],
   "source": [
    "def myfunc(n):\n",
    "    return abs(n - 50)\n",
    "\n",
    "thislist = [100, 50, 65, 82, 23]\n",
    "x=sorted(thislist,key = myfunc)\n",
    "print(x)"
   ]
  },
  {
   "cell_type": "code",
   "execution_count": 75,
   "id": "76949902",
   "metadata": {},
   "outputs": [
    {
     "data": {
      "text/plain": [
       "['d', 'y', 'w', 'e', '3']"
      ]
     },
     "execution_count": 75,
     "metadata": {},
     "output_type": "execute_result"
    }
   ],
   "source": [
    "string='kdweedtyyunvasw124533'\n",
    "set1=set()\n",
    "\n",
    "for char in string:\n",
    "    x=string.count(char)\n",
    "    \n",
    "    if  x>1:\n",
    "        set1.add(char)\n",
    "        \n",
    "list(set1)"
   ]
  },
  {
   "cell_type": "markdown",
   "id": "016c566f",
   "metadata": {},
   "source": [
    "# List"
   ]
  },
  {
   "cell_type": "code",
   "execution_count": 76,
   "id": "cb48da8e",
   "metadata": {},
   "outputs": [
    {
     "data": {
      "text/plain": [
       "[400, 300, 200, 100]"
      ]
     },
     "execution_count": 76,
     "metadata": {},
     "output_type": "execute_result"
    }
   ],
   "source": [
    "l=[100,200,300,400]\n",
    "l[::-1]"
   ]
  },
  {
   "cell_type": "code",
   "execution_count": 77,
   "id": "24edbdd0",
   "metadata": {},
   "outputs": [
    {
     "name": "stdout",
     "output_type": "stream",
     "text": [
      "[150, 152, 154, 156, 158, 160, 162, 164, 166, 168, 170, 172, 174, 176, 178, 180, 182, 184, 186, 188, 190, 192, 194, 196, 198, 200, 202, 204, 206, 208, 210, 212, 214, 216, 218, 220, 222, 224, 226, 228, 230, 232, 234, 236, 238, 240, 242, 244, 246, 248]\n",
      "[152, 156, 160, 164, 168, 172, 176, 180, 184, 188, 192, 196, 200, 204, 208, 212, 216, 220, 224, 228, 232, 236, 240, 244, 248]\n",
      "[154, 165, 176, 187, 198, 209, 220, 231, 242]\n"
     ]
    }
   ],
   "source": [
    "l1=[]\n",
    "l2=[]\n",
    "l3=[]\n",
    "\n",
    "for e in range(150,250):\n",
    "    if e%2==0:\n",
    "        l1.append(e)\n",
    "    if e%4==0:\n",
    "        l2.append(e)\n",
    "    if e%11==0:\n",
    "        l3.append(e)\n",
    "        \n",
    "print(l1)\n",
    "print(l2)\n",
    "print(l3)"
   ]
  },
  {
   "cell_type": "code",
   "execution_count": 88,
   "id": "bb73a036",
   "metadata": {},
   "outputs": [
    {
     "name": "stdout",
     "output_type": "stream",
     "text": [
      "[1, 2, 3, 4, 5, 6]\n"
     ]
    }
   ],
   "source": [
    "import math\n",
    "list=[1,4,9,16,25,36]\n",
    "sqrt_list=[]\n",
    "for e in list:\n",
    "    sqrt_list.append(int(math.sqrt(e)))\n",
    "    \n",
    "print(sqrt_list) "
   ]
  },
  {
   "cell_type": "code",
   "execution_count": 1,
   "id": "c8be4983",
   "metadata": {},
   "outputs": [
    {
     "name": "stdout",
     "output_type": "stream",
     "text": [
      "['50', '51', '60', '61', '70', '71']\n",
      "[50, 51, 60, 61, 70, 71]\n"
     ]
    }
   ],
   "source": [
    "list1=[5,6,7]\n",
    "list2=[0,1]\n",
    "l3=[]\n",
    "for e1 in list1:\n",
    "    for e2 in list2:\n",
    "        a=str(e1)+str(e2)\n",
    "        l3.append(a)\n",
    "\n",
    "print(l3)\n",
    "a=list(map(int, l3))\n",
    "print(a)"
   ]
  },
  {
   "cell_type": "code",
   "execution_count": 2,
   "id": "da56b943",
   "metadata": {},
   "outputs": [
    {
     "name": "stdout",
     "output_type": "stream",
     "text": [
      "['Ashish', 'Atharva', 'Amit', 'Revati']\n"
     ]
    }
   ],
   "source": [
    "list1 = [\"Ashish\", \"\", \"Atharva\", \"Amit\", \"\", \"Revati\"]\n",
    "\n",
    "new_list=[]\n",
    "\n",
    "for char in list1:\n",
    "    if char==\"\":\n",
    "        list1.remove(\"\")\n",
    "print(list1)"
   ]
  },
  {
   "cell_type": "code",
   "execution_count": 10,
   "id": "6fa07129",
   "metadata": {},
   "outputs": [
    {
     "name": "stdout",
     "output_type": "stream",
     "text": [
      "[10, 20, [300, 400, [5000, 6000, 7000], 500], 30, 40]\n"
     ]
    }
   ],
   "source": [
    "list1 = [10, 20, [300, 400, [5000, 6000], 500], 30, 40]\n",
    "\n",
    "#l2=list1[2][2]\n",
    "#l2.insert(2,7000)\n",
    "l2=[7000]\n",
    "list1[2][2].extend(l2)\n",
    "print(list1)"
   ]
  },
  {
   "cell_type": "code",
   "execution_count": 11,
   "id": "6dfe992c",
   "metadata": {},
   "outputs": [
    {
     "name": "stdout",
     "output_type": "stream",
     "text": [
      "[5, 10, 15, 200, 25, 50, 20]\n"
     ]
    }
   ],
   "source": [
    "list1 = [5, 10, 15, 20, 25, 50, 20]\n",
    "\n",
    "list1[3]=200\n",
    "print(list1)"
   ]
  },
  {
   "cell_type": "code",
   "execution_count": 4,
   "id": "0c38f184",
   "metadata": {},
   "outputs": [
    {
     "name": "stdout",
     "output_type": "stream",
     "text": [
      "[5, 15, 25, 50]\n"
     ]
    }
   ],
   "source": [
    "new_list = [5, 20, 15, 20, 25, 50, 20]\n",
    "for e in new_list:\n",
    "    if e==20:\n",
    "        new_list.remove(e)\n",
    "print(new_list)"
   ]
  },
  {
   "cell_type": "markdown",
   "id": "f229b154",
   "metadata": {},
   "source": [
    "# Prime Number"
   ]
  },
  {
   "cell_type": "code",
   "execution_count": 2,
   "id": "dcc63778",
   "metadata": {},
   "outputs": [
    {
     "name": "stdout",
     "output_type": "stream",
     "text": [
      "Number is not Prime\n"
     ]
    }
   ],
   "source": [
    "num=11\n",
    "\n",
    "for i in range(num):\n",
    "    if i>0:\n",
    "        num%i==0\n",
    "        print('Number is not Prime')\n",
    "        break\n",
    "else:\n",
    "    print('Number is prime')"
   ]
  },
  {
   "cell_type": "markdown",
   "id": "14cf5200",
   "metadata": {},
   "source": [
    "# Amstrong Number"
   ]
  },
  {
   "cell_type": "code",
   "execution_count": 4,
   "id": "89e220f4",
   "metadata": {},
   "outputs": [
    {
     "name": "stdout",
     "output_type": "stream",
     "text": [
      "Number is Amstrong\n"
     ]
    }
   ],
   "source": [
    "num=153\n",
    "\n",
    "str_num=str(num)\n",
    "order=len(str_num)\n",
    "add=0\n",
    "for e in str_num:\n",
    "    add+=int(e)**order\n",
    "    \n",
    "if add==num:\n",
    "    print('Number is Amstrong')\n",
    "else:\n",
    "    print('Number is not Amstrong')"
   ]
  },
  {
   "cell_type": "markdown",
   "id": "bf838fd4",
   "metadata": {},
   "source": [
    "# Fatorial Number"
   ]
  },
  {
   "cell_type": "code",
   "execution_count": 9,
   "id": "3e7386d6",
   "metadata": {},
   "outputs": [
    {
     "name": "stdout",
     "output_type": "stream",
     "text": [
      "120\n"
     ]
    }
   ],
   "source": [
    "#1*2*3*4*5\n",
    "n=5\n",
    "fact=1\n",
    "for i in range(2,n+1):\n",
    "    fact=fact*i\n",
    "print(fact)"
   ]
  },
  {
   "cell_type": "markdown",
   "id": "3e5aa0e2",
   "metadata": {},
   "source": [
    "# Fibonacci Series"
   ]
  },
  {
   "cell_type": "code",
   "execution_count": 10,
   "id": "3f2030c5",
   "metadata": {},
   "outputs": [
    {
     "name": "stdout",
     "output_type": "stream",
     "text": [
      "0\n",
      "1\n",
      "1\n",
      "2\n",
      "3\n",
      "5\n",
      "8\n",
      "13\n",
      "21\n",
      "34\n"
     ]
    }
   ],
   "source": [
    "#0+1+1+2+3+5+8\n",
    "\n",
    "a=0\n",
    "b=1\n",
    "add=0\n",
    "for i in range(10):\n",
    "    print(a)\n",
    "    add=a+b\n",
    "    a=b\n",
    "    b=add\n",
    "    "
   ]
  },
  {
   "cell_type": "code",
   "execution_count": 23,
   "id": "bdfbf58f",
   "metadata": {},
   "outputs": [],
   "source": [
    "def prime_num(num):\n",
    "    x=int(num)\n",
    "    for n in range(x):\n",
    "        if n>1:\n",
    "            if x%n==0:\n",
    "                return False\n",
    "    else:\n",
    "        return True\n",
    "    \n",
    "def rotate_name(name):\n",
    "    name=str(name)\n",
    "    nm=name[-1::]+name[:-1]\n",
    "    print(nm)\n",
    "    \n",
    "\n",
    "def check_num(no,nm):\n",
    "    if prime_num(no)==True:\n",
    "        rotate_name(nm)\n",
    "    else:\n",
    "        print(nm)"
   ]
  },
  {
   "cell_type": "code",
   "execution_count": 26,
   "id": "17acc114",
   "metadata": {},
   "outputs": [
    {
     "name": "stdout",
     "output_type": "stream",
     "text": [
      "yaksha\n"
     ]
    }
   ],
   "source": [
    "check_num(11,'akshay')"
   ]
  },
  {
   "cell_type": "code",
   "execution_count": 29,
   "id": "2af05f6b",
   "metadata": {},
   "outputs": [
    {
     "name": "stdout",
     "output_type": "stream",
     "text": [
      "10\n"
     ]
    }
   ],
   "source": [
    "name=10\n",
    "name1=str(name)\n",
    "print(name1)"
   ]
  },
  {
   "cell_type": "code",
   "execution_count": null,
   "id": "44200fd9",
   "metadata": {},
   "outputs": [],
   "source": []
  }
 ],
 "metadata": {
  "kernelspec": {
   "display_name": "Python 3 (ipykernel)",
   "language": "python",
   "name": "python3"
  },
  "language_info": {
   "codemirror_mode": {
    "name": "ipython",
    "version": 3
   },
   "file_extension": ".py",
   "mimetype": "text/x-python",
   "name": "python",
   "nbconvert_exporter": "python",
   "pygments_lexer": "ipython3",
   "version": "3.11.4"
  }
 },
 "nbformat": 4,
 "nbformat_minor": 5
}
